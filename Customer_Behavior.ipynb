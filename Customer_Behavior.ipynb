{
  "cells": [
    {
      "cell_type": "markdown",
      "metadata": {
        "id": "view-in-github",
        "colab_type": "text"
      },
      "source": [
        "<a href=\"https://colab.research.google.com/github/ElevenStream/Customer-Behavior-Analysis/blob/main/Customer_Behavior.ipynb\" target=\"_parent\"><img src=\"https://colab.research.google.com/assets/colab-badge.svg\" alt=\"Open In Colab\"/></a>"
      ]
    },
    {
      "cell_type": "markdown",
      "metadata": {
        "id": "381ab61e"
      },
      "source": [
        "# Customer Behavior Analysis  \n",
        "This notebook analyzes customer behavior using transaction data.  \n",
        "It includes exploratory data analysis, segmentation, and predictive modeling.\n"
      ]
    },
    {
      "cell_type": "code",
      "execution_count": null,
      "metadata": {
        "colab": {
          "base_uri": "https://localhost:8080/"
        },
        "id": "hxt4wqZYD6cs",
        "outputId": "77c87214-d79a-4f90-a11a-c700d6ef34c9"
      },
      "outputs": [
        {
          "name": "stdout",
          "output_type": "stream",
          "text": [
            "Synthetic datasets generated and saved!\n"
          ]
        }
      ],
      "source": [
        "\n",
        "import pandas as pd\n",
        "import numpy as np\n",
        "import matplotlib.pyplot as plt\n",
        "import seaborn as sns\n",
        "from datetime import datetime, timedelta\n",
        "import random\n",
        "import os\n",
        "\n",
        "# Create project folder in Google Drive\n",
        "project_folder = '/content/Customer_Behavior_Project'\n",
        "os.makedirs(project_folder, exist_ok=True)\n",
        "\n",
        "# Generate synthetic e-commerce data\n",
        "np.random.seed(42)\n",
        "num_customers = 1000\n",
        "num_orders = 5000\n",
        "\n",
        "# Generate customers\n",
        "customers = pd.DataFrame({\n",
        "    'customer_id': np.arange(1, num_customers + 1),\n",
        "    'customer_name': [f'Customer_{i}' for i in range(1, num_customers + 1)],\n",
        "    'country': np.random.choice(['USA', 'Canada', 'UK', 'Germany', 'France'], num_customers)\n",
        "})\n",
        "\n",
        "# Generate orders\n",
        "orders = pd.DataFrame({\n",
        "    'order_id': np.arange(1, num_orders + 1),\n",
        "    'customer_id': np.random.choice(customers['customer_id'], num_orders),\n",
        "    'order_date': [datetime.today() - timedelta(days=random.randint(1, 365)) for _ in range(num_orders)],\n",
        "    'amount': np.random.exponential(scale=100, size=num_orders).round(2),\n",
        "    'product_category': np.random.choice(['Electronics', 'Fashion', 'Home', 'Toys', 'Books'], num_orders)\n",
        "})\n",
        "\n",
        "# Save datasets\n",
        "customers.to_csv(f'{project_folder}/customers.csv', index=False)\n",
        "orders.to_csv(f'{project_folder}/orders.csv', index=False)\n",
        "\n",
        "print(\"Synthetic datasets generated and saved!\")"
      ]
    },
    {
      "cell_type": "code",
      "execution_count": null,
      "metadata": {
        "colab": {
          "base_uri": "https://localhost:8080/",
          "height": 921
        },
        "id": "yJAmj2ObE3-X",
        "outputId": "8fd858c8-1113-41e1-cb86-07ce54d061b9"
      },
      "outputs": [
        {
          "name": "stdout",
          "output_type": "stream",
          "text": [
            "<class 'pandas.core.frame.DataFrame'>\n",
            "RangeIndex: 1000 entries, 0 to 999\n",
            "Data columns (total 3 columns):\n",
            " #   Column         Non-Null Count  Dtype \n",
            "---  ------         --------------  ----- \n",
            " 0   customer_id    1000 non-null   int64 \n",
            " 1   customer_name  1000 non-null   object\n",
            " 2   country        1000 non-null   object\n",
            "dtypes: int64(1), object(2)\n",
            "memory usage: 23.6+ KB\n",
            "None\n",
            "<class 'pandas.core.frame.DataFrame'>\n",
            "RangeIndex: 5000 entries, 0 to 4999\n",
            "Data columns (total 5 columns):\n",
            " #   Column            Non-Null Count  Dtype         \n",
            "---  ------            --------------  -----         \n",
            " 0   order_id          5000 non-null   int64         \n",
            " 1   customer_id       5000 non-null   int64         \n",
            " 2   order_date        5000 non-null   datetime64[ns]\n",
            " 3   amount            5000 non-null   float64       \n",
            " 4   product_category  5000 non-null   object        \n",
            "dtypes: datetime64[ns](1), float64(1), int64(2), object(1)\n",
            "memory usage: 195.4+ KB\n",
            "None\n",
            "customer_id      0\n",
            "customer_name    0\n",
            "country          0\n",
            "dtype: int64\n",
            "order_id            0\n",
            "customer_id         0\n",
            "order_date          0\n",
            "amount              0\n",
            "product_category    0\n",
            "dtype: int64\n",
            "✅ Data merged and ready for analysis!\n"
          ]
        },
        {
          "data": {
            "application/vnd.google.colaboratory.intrinsic+json": {
              "summary": "{\n  \"name\": \"data\",\n  \"rows\": 5000,\n  \"fields\": [\n    {\n      \"column\": \"order_id\",\n      \"properties\": {\n        \"dtype\": \"number\",\n        \"std\": 1443,\n        \"min\": 1,\n        \"max\": 5000,\n        \"num_unique_values\": 5000,\n        \"samples\": [\n          1502,\n          2587,\n          2654\n        ],\n        \"semantic_type\": \"\",\n        \"description\": \"\"\n      }\n    },\n    {\n      \"column\": \"customer_id\",\n      \"properties\": {\n        \"dtype\": \"number\",\n        \"std\": 288,\n        \"min\": 1,\n        \"max\": 1000,\n        \"num_unique_values\": 992,\n        \"samples\": [\n          632,\n          976,\n          448\n        ],\n        \"semantic_type\": \"\",\n        \"description\": \"\"\n      }\n    },\n    {\n      \"column\": \"order_date\",\n      \"properties\": {\n        \"dtype\": \"date\",\n        \"min\": \"2024-03-14 05:22:50.885077\",\n        \"max\": \"2025-03-13 05:22:50.894017\",\n        \"num_unique_values\": 5000,\n        \"samples\": [\n          \"2024-06-27 05:22:50.887256\",\n          \"2024-10-06 05:22:50.889598\",\n          \"2024-03-23 05:22:50.889737\"\n        ],\n        \"semantic_type\": \"\",\n        \"description\": \"\"\n      }\n    },\n    {\n      \"column\": \"amount\",\n      \"properties\": {\n        \"dtype\": \"number\",\n        \"std\": 97.93327155791023,\n        \"min\": 0.0,\n        \"max\": 772.35,\n        \"num_unique_values\": 4465,\n        \"samples\": [\n          241.47,\n          98.26,\n          52.43\n        ],\n        \"semantic_type\": \"\",\n        \"description\": \"\"\n      }\n    },\n    {\n      \"column\": \"product_category\",\n      \"properties\": {\n        \"dtype\": \"category\",\n        \"num_unique_values\": 5,\n        \"samples\": [\n          \"Toys\",\n          \"Home\",\n          \"Books\"\n        ],\n        \"semantic_type\": \"\",\n        \"description\": \"\"\n      }\n    },\n    {\n      \"column\": \"customer_name\",\n      \"properties\": {\n        \"dtype\": \"category\",\n        \"num_unique_values\": 992,\n        \"samples\": [\n          \"Customer_632\",\n          \"Customer_976\",\n          \"Customer_448\"\n        ],\n        \"semantic_type\": \"\",\n        \"description\": \"\"\n      }\n    },\n    {\n      \"column\": \"country\",\n      \"properties\": {\n        \"dtype\": \"category\",\n        \"num_unique_values\": 5,\n        \"samples\": [\n          \"USA\",\n          \"Canada\",\n          \"Germany\"\n        ],\n        \"semantic_type\": \"\",\n        \"description\": \"\"\n      }\n    }\n  ]\n}",
              "type": "dataframe",
              "variable_name": "data"
            },
            "text/html": [
              "\n",
              "  <div id=\"df-fd80c4c8-5e4c-4bd7-9830-56fbdd5971d3\" class=\"colab-df-container\">\n",
              "    <div>\n",
              "<style scoped>\n",
              "    .dataframe tbody tr th:only-of-type {\n",
              "        vertical-align: middle;\n",
              "    }\n",
              "\n",
              "    .dataframe tbody tr th {\n",
              "        vertical-align: top;\n",
              "    }\n",
              "\n",
              "    .dataframe thead th {\n",
              "        text-align: right;\n",
              "    }\n",
              "</style>\n",
              "<table border=\"1\" class=\"dataframe\">\n",
              "  <thead>\n",
              "    <tr style=\"text-align: right;\">\n",
              "      <th></th>\n",
              "      <th>order_id</th>\n",
              "      <th>customer_id</th>\n",
              "      <th>order_date</th>\n",
              "      <th>amount</th>\n",
              "      <th>product_category</th>\n",
              "      <th>customer_name</th>\n",
              "      <th>country</th>\n",
              "    </tr>\n",
              "  </thead>\n",
              "  <tbody>\n",
              "    <tr>\n",
              "      <th>0</th>\n",
              "      <td>1</td>\n",
              "      <td>460</td>\n",
              "      <td>2024-11-27 05:22:50.884113</td>\n",
              "      <td>31.74</td>\n",
              "      <td>Electronics</td>\n",
              "      <td>Customer_460</td>\n",
              "      <td>UK</td>\n",
              "    </tr>\n",
              "    <tr>\n",
              "      <th>1</th>\n",
              "      <td>2</td>\n",
              "      <td>356</td>\n",
              "      <td>2025-01-01 05:22:50.884136</td>\n",
              "      <td>117.88</td>\n",
              "      <td>Toys</td>\n",
              "      <td>Customer_356</td>\n",
              "      <td>UK</td>\n",
              "    </tr>\n",
              "    <tr>\n",
              "      <th>2</th>\n",
              "      <td>3</td>\n",
              "      <td>324</td>\n",
              "      <td>2024-11-01 05:22:50.884140</td>\n",
              "      <td>30.66</td>\n",
              "      <td>Books</td>\n",
              "      <td>Customer_324</td>\n",
              "      <td>USA</td>\n",
              "    </tr>\n",
              "    <tr>\n",
              "      <th>3</th>\n",
              "      <td>4</td>\n",
              "      <td>133</td>\n",
              "      <td>2024-10-10 05:22:50.884142</td>\n",
              "      <td>279.80</td>\n",
              "      <td>Books</td>\n",
              "      <td>Customer_133</td>\n",
              "      <td>Germany</td>\n",
              "    </tr>\n",
              "    <tr>\n",
              "      <th>4</th>\n",
              "      <td>5</td>\n",
              "      <td>888</td>\n",
              "      <td>2024-12-24 05:22:50.884144</td>\n",
              "      <td>101.16</td>\n",
              "      <td>Toys</td>\n",
              "      <td>Customer_888</td>\n",
              "      <td>France</td>\n",
              "    </tr>\n",
              "  </tbody>\n",
              "</table>\n",
              "</div>\n",
              "    <div class=\"colab-df-buttons\">\n",
              "\n",
              "  <div class=\"colab-df-container\">\n",
              "    <button class=\"colab-df-convert\" onclick=\"convertToInteractive('df-fd80c4c8-5e4c-4bd7-9830-56fbdd5971d3')\"\n",
              "            title=\"Convert this dataframe to an interactive table.\"\n",
              "            style=\"display:none;\">\n",
              "\n",
              "  <svg xmlns=\"http://www.w3.org/2000/svg\" height=\"24px\" viewBox=\"0 -960 960 960\">\n",
              "    <path d=\"M120-120v-720h720v720H120Zm60-500h600v-160H180v160Zm220 220h160v-160H400v160Zm0 220h160v-160H400v160ZM180-400h160v-160H180v160Zm440 0h160v-160H620v160ZM180-180h160v-160H180v160Zm440 0h160v-160H620v160Z\"/>\n",
              "  </svg>\n",
              "    </button>\n",
              "\n",
              "  <style>\n",
              "    .colab-df-container {\n",
              "      display:flex;\n",
              "      gap: 12px;\n",
              "    }\n",
              "\n",
              "    .colab-df-convert {\n",
              "      background-color: #E8F0FE;\n",
              "      border: none;\n",
              "      border-radius: 50%;\n",
              "      cursor: pointer;\n",
              "      display: none;\n",
              "      fill: #1967D2;\n",
              "      height: 32px;\n",
              "      padding: 0 0 0 0;\n",
              "      width: 32px;\n",
              "    }\n",
              "\n",
              "    .colab-df-convert:hover {\n",
              "      background-color: #E2EBFA;\n",
              "      box-shadow: 0px 1px 2px rgba(60, 64, 67, 0.3), 0px 1px 3px 1px rgba(60, 64, 67, 0.15);\n",
              "      fill: #174EA6;\n",
              "    }\n",
              "\n",
              "    .colab-df-buttons div {\n",
              "      margin-bottom: 4px;\n",
              "    }\n",
              "\n",
              "    [theme=dark] .colab-df-convert {\n",
              "      background-color: #3B4455;\n",
              "      fill: #D2E3FC;\n",
              "    }\n",
              "\n",
              "    [theme=dark] .colab-df-convert:hover {\n",
              "      background-color: #434B5C;\n",
              "      box-shadow: 0px 1px 3px 1px rgba(0, 0, 0, 0.15);\n",
              "      filter: drop-shadow(0px 1px 2px rgba(0, 0, 0, 0.3));\n",
              "      fill: #FFFFFF;\n",
              "    }\n",
              "  </style>\n",
              "\n",
              "    <script>\n",
              "      const buttonEl =\n",
              "        document.querySelector('#df-fd80c4c8-5e4c-4bd7-9830-56fbdd5971d3 button.colab-df-convert');\n",
              "      buttonEl.style.display =\n",
              "        google.colab.kernel.accessAllowed ? 'block' : 'none';\n",
              "\n",
              "      async function convertToInteractive(key) {\n",
              "        const element = document.querySelector('#df-fd80c4c8-5e4c-4bd7-9830-56fbdd5971d3');\n",
              "        const dataTable =\n",
              "          await google.colab.kernel.invokeFunction('convertToInteractive',\n",
              "                                                    [key], {});\n",
              "        if (!dataTable) return;\n",
              "\n",
              "        const docLinkHtml = 'Like what you see? Visit the ' +\n",
              "          '<a target=\"_blank\" href=https://colab.research.google.com/notebooks/data_table.ipynb>data table notebook</a>'\n",
              "          + ' to learn more about interactive tables.';\n",
              "        element.innerHTML = '';\n",
              "        dataTable['output_type'] = 'display_data';\n",
              "        await google.colab.output.renderOutput(dataTable, element);\n",
              "        const docLink = document.createElement('div');\n",
              "        docLink.innerHTML = docLinkHtml;\n",
              "        element.appendChild(docLink);\n",
              "      }\n",
              "    </script>\n",
              "  </div>\n",
              "\n",
              "\n",
              "<div id=\"df-73256322-d3bb-4971-8127-1fcab5346145\">\n",
              "  <button class=\"colab-df-quickchart\" onclick=\"quickchart('df-73256322-d3bb-4971-8127-1fcab5346145')\"\n",
              "            title=\"Suggest charts\"\n",
              "            style=\"display:none;\">\n",
              "\n",
              "<svg xmlns=\"http://www.w3.org/2000/svg\" height=\"24px\"viewBox=\"0 0 24 24\"\n",
              "     width=\"24px\">\n",
              "    <g>\n",
              "        <path d=\"M19 3H5c-1.1 0-2 .9-2 2v14c0 1.1.9 2 2 2h14c1.1 0 2-.9 2-2V5c0-1.1-.9-2-2-2zM9 17H7v-7h2v7zm4 0h-2V7h2v10zm4 0h-2v-4h2v4z\"/>\n",
              "    </g>\n",
              "</svg>\n",
              "  </button>\n",
              "\n",
              "<style>\n",
              "  .colab-df-quickchart {\n",
              "      --bg-color: #E8F0FE;\n",
              "      --fill-color: #1967D2;\n",
              "      --hover-bg-color: #E2EBFA;\n",
              "      --hover-fill-color: #174EA6;\n",
              "      --disabled-fill-color: #AAA;\n",
              "      --disabled-bg-color: #DDD;\n",
              "  }\n",
              "\n",
              "  [theme=dark] .colab-df-quickchart {\n",
              "      --bg-color: #3B4455;\n",
              "      --fill-color: #D2E3FC;\n",
              "      --hover-bg-color: #434B5C;\n",
              "      --hover-fill-color: #FFFFFF;\n",
              "      --disabled-bg-color: #3B4455;\n",
              "      --disabled-fill-color: #666;\n",
              "  }\n",
              "\n",
              "  .colab-df-quickchart {\n",
              "    background-color: var(--bg-color);\n",
              "    border: none;\n",
              "    border-radius: 50%;\n",
              "    cursor: pointer;\n",
              "    display: none;\n",
              "    fill: var(--fill-color);\n",
              "    height: 32px;\n",
              "    padding: 0;\n",
              "    width: 32px;\n",
              "  }\n",
              "\n",
              "  .colab-df-quickchart:hover {\n",
              "    background-color: var(--hover-bg-color);\n",
              "    box-shadow: 0 1px 2px rgba(60, 64, 67, 0.3), 0 1px 3px 1px rgba(60, 64, 67, 0.15);\n",
              "    fill: var(--button-hover-fill-color);\n",
              "  }\n",
              "\n",
              "  .colab-df-quickchart-complete:disabled,\n",
              "  .colab-df-quickchart-complete:disabled:hover {\n",
              "    background-color: var(--disabled-bg-color);\n",
              "    fill: var(--disabled-fill-color);\n",
              "    box-shadow: none;\n",
              "  }\n",
              "\n",
              "  .colab-df-spinner {\n",
              "    border: 2px solid var(--fill-color);\n",
              "    border-color: transparent;\n",
              "    border-bottom-color: var(--fill-color);\n",
              "    animation:\n",
              "      spin 1s steps(1) infinite;\n",
              "  }\n",
              "\n",
              "  @keyframes spin {\n",
              "    0% {\n",
              "      border-color: transparent;\n",
              "      border-bottom-color: var(--fill-color);\n",
              "      border-left-color: var(--fill-color);\n",
              "    }\n",
              "    20% {\n",
              "      border-color: transparent;\n",
              "      border-left-color: var(--fill-color);\n",
              "      border-top-color: var(--fill-color);\n",
              "    }\n",
              "    30% {\n",
              "      border-color: transparent;\n",
              "      border-left-color: var(--fill-color);\n",
              "      border-top-color: var(--fill-color);\n",
              "      border-right-color: var(--fill-color);\n",
              "    }\n",
              "    40% {\n",
              "      border-color: transparent;\n",
              "      border-right-color: var(--fill-color);\n",
              "      border-top-color: var(--fill-color);\n",
              "    }\n",
              "    60% {\n",
              "      border-color: transparent;\n",
              "      border-right-color: var(--fill-color);\n",
              "    }\n",
              "    80% {\n",
              "      border-color: transparent;\n",
              "      border-right-color: var(--fill-color);\n",
              "      border-bottom-color: var(--fill-color);\n",
              "    }\n",
              "    90% {\n",
              "      border-color: transparent;\n",
              "      border-bottom-color: var(--fill-color);\n",
              "    }\n",
              "  }\n",
              "</style>\n",
              "\n",
              "  <script>\n",
              "    async function quickchart(key) {\n",
              "      const quickchartButtonEl =\n",
              "        document.querySelector('#' + key + ' button');\n",
              "      quickchartButtonEl.disabled = true;  // To prevent multiple clicks.\n",
              "      quickchartButtonEl.classList.add('colab-df-spinner');\n",
              "      try {\n",
              "        const charts = await google.colab.kernel.invokeFunction(\n",
              "            'suggestCharts', [key], {});\n",
              "      } catch (error) {\n",
              "        console.error('Error during call to suggestCharts:', error);\n",
              "      }\n",
              "      quickchartButtonEl.classList.remove('colab-df-spinner');\n",
              "      quickchartButtonEl.classList.add('colab-df-quickchart-complete');\n",
              "    }\n",
              "    (() => {\n",
              "      let quickchartButtonEl =\n",
              "        document.querySelector('#df-73256322-d3bb-4971-8127-1fcab5346145 button');\n",
              "      quickchartButtonEl.style.display =\n",
              "        google.colab.kernel.accessAllowed ? 'block' : 'none';\n",
              "    })();\n",
              "  </script>\n",
              "</div>\n",
              "\n",
              "    </div>\n",
              "  </div>\n"
            ],
            "text/plain": [
              "   order_id  customer_id                 order_date  amount product_category  \\\n",
              "0         1          460 2024-11-27 05:22:50.884113   31.74      Electronics   \n",
              "1         2          356 2025-01-01 05:22:50.884136  117.88             Toys   \n",
              "2         3          324 2024-11-01 05:22:50.884140   30.66            Books   \n",
              "3         4          133 2024-10-10 05:22:50.884142  279.80            Books   \n",
              "4         5          888 2024-12-24 05:22:50.884144  101.16             Toys   \n",
              "\n",
              "  customer_name  country  \n",
              "0  Customer_460       UK  \n",
              "1  Customer_356       UK  \n",
              "2  Customer_324      USA  \n",
              "3  Customer_133  Germany  \n",
              "4  Customer_888   France  "
            ]
          },
          "execution_count": 7,
          "metadata": {},
          "output_type": "execute_result"
        }
      ],
      "source": [
        "\n",
        "# Load datasets\n",
        "customers = pd.read_csv(f'{project_folder}/customers.csv')\n",
        "orders = pd.read_csv(f'{project_folder}/orders.csv')\n",
        "\n",
        "# Convert 'order_date' to datetime\n",
        "orders['order_date'] = pd.to_datetime(orders['order_date'])\n",
        "\n",
        "# Basic data checks\n",
        "print(customers.info())\n",
        "print(orders.info())\n",
        "\n",
        "# Check for missing values\n",
        "print(customers.isnull().sum())\n",
        "print(orders.isnull().sum())\n",
        "\n",
        "# Merge datasets for analysis\n",
        "data = pd.merge(orders, customers, on='customer_id')\n",
        "\n",
        "print(\"✅ Data merged and ready for analysis!\")\n",
        "data.head()"
      ]
    },
    {
      "cell_type": "code",
      "execution_count": null,
      "metadata": {
        "colab": {
          "base_uri": "https://localhost:8080/",
          "height": 884
        },
        "id": "jeFfq-A3G05w",
        "outputId": "c36fb69a-7005-4d9e-b661-63a10c296f3a"
      },
      "outputs": [
        {
          "name": "stdout",
          "output_type": "stream",
          "text": [
            "          order_id  customer_id                     order_date       amount\n",
            "count  5000.000000  5000.000000                           5000  5000.000000\n",
            "mean   2500.500000   506.120400  2024-09-10 09:07:12.009408512    97.397724\n",
            "min       1.000000     1.000000     2024-03-14 05:22:50.885077     0.000000\n",
            "25%    1250.750000   261.000000  2024-06-11 23:22:50.887884800    27.717500\n",
            "50%    2500.500000   509.000000  2024-09-08 05:22:50.886699008    66.415000\n",
            "75%    3750.250000   754.250000  2024-12-10 05:22:50.887809024   134.915000\n",
            "max    5000.000000  1000.000000     2025-03-13 05:22:50.894017   772.350000\n",
            "std    1443.520003   288.110503                            NaN    97.933272\n",
            "country\n",
            "USA        107078.31\n",
            "France     101270.99\n",
            "Germany     97656.26\n",
            "Canada      91502.57\n",
            "UK          89480.49\n",
            "Name: amount, dtype: float64\n"
          ]
        },
        {
          "data": {
            "image/png": "[encoded data removed]",
            "text/plain": [
              "<Figure size 1200x600 with 1 Axes>"
            ]
          },
          "metadata": {},
          "output_type": "display_data"
        },
        {
          "data": {
            "image/png": "[encoded data removed]",
            "text/plain": [
              "<Figure size 800x600 with 1 Axes>"
            ]
          },
          "metadata": {},
          "output_type": "display_data"
        },
        {
          "name": "stdout",
          "output_type": "stream",
          "text": [
            "customer_name\n",
            "Customer_783    2024.67\n",
            "Customer_726    1716.89\n",
            "Customer_664    1699.11\n",
            "Customer_17     1654.65\n",
            "Customer_154    1652.43\n",
            "Customer_354    1648.50\n",
            "Customer_944    1617.15\n",
            "Customer_55     1481.37\n",
            "Customer_666    1474.06\n",
            "Customer_156    1447.57\n",
            "Name: amount, dtype: float64\n"
          ]
        }
      ],
      "source": [
        "\n",
        "# Summary statistics\n",
        "print(data.describe())\n",
        "\n",
        "# Total revenue per country\n",
        "revenue_by_country = data.groupby('country')['amount'].sum().sort_values(ascending=False)\n",
        "print(revenue_by_country)\n",
        "\n",
        "# Revenue trends over time\n",
        "data['month'] = data['order_date'].dt.to_period('M')\n",
        "monthly_revenue = data.groupby('month')['amount'].sum()\n",
        "\n",
        "# Plot monthly revenue trend\n",
        "plt.figure(figsize=(12, 6))\n",
        "monthly_revenue.plot(kind='line', marker='o')\n",
        "plt.title('Monthly Revenue Trend')\n",
        "plt.xlabel('Month')\n",
        "plt.ylabel('Revenue')\n",
        "plt.grid(True)\n",
        "plt.show()\n",
        "\n",
        "# Product category analysis\n",
        "plt.figure(figsize=(8, 6))\n",
        "sns.boxplot(x='product_category', y='amount', data=data)\n",
        "plt.title('Spending Distribution by Product Category')\n",
        "plt.show()\n",
        "\n",
        "# Top customers by total spend\n",
        "top_customers = data.groupby('customer_name')['amount'].sum().sort_values(ascending=False).head(10)\n",
        "print(top_customers)"
      ]
    },
    {
      "cell_type": "code",
      "execution_count": null,
      "metadata": {
        "colab": {
          "base_uri": "https://localhost:8080/",
          "height": 677
        },
        "id": "hvJK0lqSHuA4",
        "outputId": "a3d2fd07-6582-4c5b-cec2-691a0de3dcc3"
      },
      "outputs": [
        {
          "name": "stdout",
          "output_type": "stream",
          "text": [
            "spender_category\n",
            "Low Spender       3241\n",
            "Medium Spender    1528\n",
            "High Spender       231\n",
            "Name: count, dtype: int64\n"
          ]
        },
        {
          "name": "stderr",
          "output_type": "stream",
          "text": [
            "<ipython-input-9-a6d1905dd700>:18: FutureWarning: \n",
            "\n",
            "Passing `palette` without assigning `hue` is deprecated and will be removed in v0.14.0. Assign the `x` variable to `hue` and set `legend=False` for the same effect.\n",
            "\n",
            "  sns.countplot(x='spender_category', data=data, palette='coolwarm')\n"
          ]
        },
        {
          "data": {
            "image/png": "[encoded data removed]",
            "text/plain": [
              "<Figure size 800x600 with 1 Axes>"
            ]
          },
          "metadata": {},
          "output_type": "display_data"
        },
        {
          "name": "stderr",
          "output_type": "stream",
          "text": [
            "<ipython-input-9-a6d1905dd700>:24: FutureWarning: \n",
            "\n",
            "The `ci` parameter is deprecated. Use `errorbar=None` for the same effect.\n",
            "\n",
            "  sns.barplot(x='country', y='amount', data=data, estimator=sum, ci=None)\n"
          ]
        },
        {
          "data": {
            "image/png": "[encoded data removed]",
            "text/plain": [
              "<Figure size 1000x600 with 1 Axes>"
            ]
          },
          "metadata": {},
          "output_type": "display_data"
        }
      ],
      "source": [
        "\n",
        "# Customer segmentation by spending\n",
        "def categorize_spender(amount):\n",
        "    if amount > 300:\n",
        "        return 'High Spender'\n",
        "    elif amount > 100:\n",
        "        return 'Medium Spender'\n",
        "    else:\n",
        "        return 'Low Spender'\n",
        "\n",
        "data['spender_category'] = data['amount'].apply(categorize_spender)\n",
        "\n",
        "# Spender category distribution\n",
        "spender_distribution = data['spender_category'].value_counts()\n",
        "print(spender_distribution)\n",
        "\n",
        "# Visualization of spender distribution\n",
        "plt.figure(figsize=(8, 6))\n",
        "sns.countplot(x='spender_category', data=data, palette='coolwarm')\n",
        "plt.title('Customer Spending Categories')\n",
        "plt.show()\n",
        "\n",
        "# Sales distribution per country\n",
        "plt.figure(figsize=(10, 6))\n",
        "sns.barplot(x='country', y='amount', data=data, estimator=sum, ci=None)\n",
        "plt.title('Total Sales by Country')\n",
        "plt.show()"
      ]
    },
    {
      "cell_type": "code",
      "execution_count": null,
      "metadata": {
        "colab": {
          "base_uri": "https://localhost:8080/"
        },
        "id": "9jlBTbilFjDo",
        "outputId": "3ddcbeed-226c-4fe2-a702-d610cc9c5689"
      },
      "outputs": [
        {
          "name": "stdout",
          "output_type": "stream",
          "text": [
            "✅ Reports generated and saved to project folder!\n"
          ]
        }
      ],
      "source": [
        "\n",
        "# Export revenue by country\n",
        "revenue_by_country.to_csv(f'{project_folder}/revenue_by_country.csv')\n",
        "\n",
        "# Export top customers\n",
        "top_customers.to_csv(f'{project_folder}/top_customers.csv')\n",
        "\n",
        "# Export customer segmentation\n",
        "spender_distribution.to_csv(f'{project_folder}/spender_distribution.csv')\n",
        "\n",
        "print(\"✅ Reports generated and saved to project folder!\")"
      ]
    },
    {
      "cell_type": "code",
      "execution_count": null,
      "metadata": {
        "colab": {
          "base_uri": "https://localhost:8080/",
          "height": 1000
        },
        "id": "M04WxjN8JY1E",
        "outputId": "ec8eb19e-b615-4585-cf77-d65b7644d85c"
      },
      "outputs": [
        {
          "name": "stdout",
          "output_type": "stream",
          "text": [
            "Requirement already satisfied: plotly in /usr/local/lib/python3.11/dist-packages (5.24.1)\n",
            "Requirement already satisfied: statsmodels in /usr/local/lib/python3.11/dist-packages (0.14.4)\n",
            "Requirement already satisfied: tenacity>=6.2.0 in /usr/local/lib/python3.11/dist-packages (from plotly) (9.0.0)\n",
            "Requirement already satisfied: packaging in /usr/local/lib/python3.11/dist-packages (from plotly) (24.2)\n",
            "Requirement already satisfied: numpy<3,>=1.22.3 in /usr/local/lib/python3.11/dist-packages (from statsmodels) (1.26.4)\n",
            "Requirement already satisfied: scipy!=1.9.2,>=1.8 in /usr/local/lib/python3.11/dist-packages (from statsmodels) (1.14.1)\n",
            "Requirement already satisfied: pandas!=2.1.0,>=1.4 in /usr/local/lib/python3.11/dist-packages (from statsmodels) (2.2.2)\n",
            "Requirement already satisfied: patsy>=0.5.6 in /usr/local/lib/python3.11/dist-packages (from statsmodels) (1.0.1)\n",
            "Requirement already satisfied: python-dateutil>=2.8.2 in /usr/local/lib/python3.11/dist-packages (from pandas!=2.1.0,>=1.4->statsmodels) (2.8.2)\n",
            "Requirement already satisfied: pytz>=2020.1 in /usr/local/lib/python3.11/dist-packages (from pandas!=2.1.0,>=1.4->statsmodels) (2025.1)\n",
            "Requirement already satisfied: tzdata>=2022.7 in /usr/local/lib/python3.11/dist-packages (from pandas!=2.1.0,>=1.4->statsmodels) (2025.1)\n",
            "Requirement already satisfied: six>=1.5 in /usr/local/lib/python3.11/dist-packages (from python-dateutil>=2.8.2->pandas!=2.1.0,>=1.4->statsmodels) (1.17.0)\n"
          ]
        },
        {
          "name": "stderr",
          "output_type": "stream",
          "text": [
            "/usr/local/lib/python3.11/dist-packages/statsmodels/tsa/base/tsa_model.py:473: ValueWarning: No frequency information was provided, so inferred frequency MS will be used.\n",
            "  self._init_dates(dates, freq)\n"
          ]
        },
        {
          "ename": "ValueError",
          "evalue": "Cannot compute initial seasonals using heuristic method with less than two full seasonal cycles in the data.",
          "output_type": "error",
          "traceback": [
            "\u001b[0;31m---------------------------------------------------------------------------\u001b[0m",
            "\u001b[0;31mValueError\u001b[0m                                Traceback (most recent call last)",
            "\u001b[0;32m<ipython-input-12-66eeb4769b52>\u001b[0m in \u001b[0;36m<cell line: 0>\u001b[0;34m()\u001b[0m\n\u001b[1;32m     56\u001b[0m \u001b[0;34m\u001b[0m\u001b[0m\n\u001b[1;32m     57\u001b[0m \u001b[0;31m# Forecasting using Exponential Smoothing\u001b[0m\u001b[0;34m\u001b[0m\u001b[0;34m\u001b[0m\u001b[0m\n\u001b[0;32m---> 58\u001b[0;31m \u001b[0mmodel\u001b[0m \u001b[0;34m=\u001b[0m \u001b[0mExponentialSmoothing\u001b[0m\u001b[0;34m(\u001b[0m\u001b[0mmonthly_sales\u001b[0m\u001b[0;34m,\u001b[0m \u001b[0mtrend\u001b[0m\u001b[0;34m=\u001b[0m\u001b[0;34m'add'\u001b[0m\u001b[0;34m,\u001b[0m \u001b[0mseasonal\u001b[0m\u001b[0;34m=\u001b[0m\u001b[0;34m'add'\u001b[0m\u001b[0;34m,\u001b[0m \u001b[0mseasonal_periods\u001b[0m\u001b[0;34m=\u001b[0m\u001b[0;36m12\u001b[0m\u001b[0;34m)\u001b[0m\u001b[0;34m\u001b[0m\u001b[0;34m\u001b[0m\u001b[0m\n\u001b[0m\u001b[1;32m     59\u001b[0m \u001b[0mfitted_model\u001b[0m \u001b[0;34m=\u001b[0m \u001b[0mmodel\u001b[0m\u001b[0;34m.\u001b[0m\u001b[0mfit\u001b[0m\u001b[0;34m(\u001b[0m\u001b[0;34m)\u001b[0m\u001b[0;34m\u001b[0m\u001b[0;34m\u001b[0m\u001b[0m\n\u001b[1;32m     60\u001b[0m \u001b[0mforecast\u001b[0m \u001b[0;34m=\u001b[0m \u001b[0mfitted_model\u001b[0m\u001b[0;34m.\u001b[0m\u001b[0mforecast\u001b[0m\u001b[0;34m(\u001b[0m\u001b[0;36m6\u001b[0m\u001b[0;34m)\u001b[0m\u001b[0;34m\u001b[0m\u001b[0;34m\u001b[0m\u001b[0m\n",
            "\u001b[0;32m/usr/local/lib/python3.11/dist-packages/pandas/util/_decorators.py\u001b[0m in \u001b[0;36mwrapper\u001b[0;34m(*args, **kwargs)\u001b[0m\n\u001b[1;32m    211\u001b[0m                     \u001b[0;32mraise\u001b[0m \u001b[0mTypeError\u001b[0m\u001b[0;34m(\u001b[0m\u001b[0mmsg\u001b[0m\u001b[0;34m)\u001b[0m\u001b[0;34m\u001b[0m\u001b[0;34m\u001b[0m\u001b[0m\n\u001b[1;32m    212\u001b[0m                 \u001b[0mkwargs\u001b[0m\u001b[0;34m[\u001b[0m\u001b[0mnew_arg_name\u001b[0m\u001b[0;34m]\u001b[0m \u001b[0;34m=\u001b[0m \u001b[0mnew_arg_value\u001b[0m\u001b[0;34m\u001b[0m\u001b[0;34m\u001b[0m\u001b[0m\n\u001b[0;32m--> 213\u001b[0;31m             \u001b[0;32mreturn\u001b[0m \u001b[0mfunc\u001b[0m\u001b[0;34m(\u001b[0m\u001b[0;34m*\u001b[0m\u001b[0margs\u001b[0m\u001b[0;34m,\u001b[0m \u001b[0;34m**\u001b[0m\u001b[0mkwargs\u001b[0m\u001b[0;34m)\u001b[0m\u001b[0;34m\u001b[0m\u001b[0;34m\u001b[0m\u001b[0m\n\u001b[0m\u001b[1;32m    214\u001b[0m \u001b[0;34m\u001b[0m\u001b[0m\n\u001b[1;32m    215\u001b[0m         \u001b[0;32mreturn\u001b[0m \u001b[0mcast\u001b[0m\u001b[0;34m(\u001b[0m\u001b[0mF\u001b[0m\u001b[0;34m,\u001b[0m \u001b[0mwrapper\u001b[0m\u001b[0;34m)\u001b[0m\u001b[0;34m\u001b[0m\u001b[0;34m\u001b[0m\u001b[0m\n",
            "\u001b[0;32m/usr/local/lib/python3.11/dist-packages/statsmodels/tsa/holtwinters/model.py\u001b[0m in \u001b[0;36m__init__\u001b[0;34m(self, endog, trend, damped_trend, seasonal, seasonal_periods, initialization_method, initial_level, initial_trend, initial_seasonal, use_boxcox, bounds, dates, freq, missing)\u001b[0m\n\u001b[1;32m    295\u001b[0m         \u001b[0mself\u001b[0m\u001b[0;34m.\u001b[0m\u001b[0m_lambda\u001b[0m \u001b[0;34m=\u001b[0m \u001b[0mnp\u001b[0m\u001b[0;34m.\u001b[0m\u001b[0mnan\u001b[0m\u001b[0;34m\u001b[0m\u001b[0;34m\u001b[0m\u001b[0m\n\u001b[1;32m    296\u001b[0m         \u001b[0mself\u001b[0m\u001b[0;34m.\u001b[0m\u001b[0m_y\u001b[0m \u001b[0;34m=\u001b[0m \u001b[0mself\u001b[0m\u001b[0;34m.\u001b[0m\u001b[0m_boxcox\u001b[0m\u001b[0;34m(\u001b[0m\u001b[0;34m)\u001b[0m\u001b[0;34m\u001b[0m\u001b[0;34m\u001b[0m\u001b[0m\n\u001b[0;32m--> 297\u001b[0;31m         \u001b[0mself\u001b[0m\u001b[0;34m.\u001b[0m\u001b[0m_initialize\u001b[0m\u001b[0;34m(\u001b[0m\u001b[0;34m)\u001b[0m\u001b[0;34m\u001b[0m\u001b[0;34m\u001b[0m\u001b[0m\n\u001b[0m\u001b[1;32m    298\u001b[0m         \u001b[0mself\u001b[0m\u001b[0;34m.\u001b[0m\u001b[0m_fixed_parameters\u001b[0m \u001b[0;34m=\u001b[0m \u001b[0;34m{\u001b[0m\u001b[0;34m}\u001b[0m\u001b[0;34m\u001b[0m\u001b[0;34m\u001b[0m\u001b[0m\n\u001b[1;32m    299\u001b[0m \u001b[0;34m\u001b[0m\u001b[0m\n",
            "\u001b[0;32m/usr/local/lib/python3.11/dist-packages/statsmodels/tsa/holtwinters/model.py\u001b[0m in \u001b[0;36m_initialize\u001b[0;34m(self)\u001b[0m\n\u001b[1;32m    433\u001b[0m         \u001b[0;32melif\u001b[0m \u001b[0mself\u001b[0m\u001b[0;34m.\u001b[0m\u001b[0m_initialization_method\u001b[0m \u001b[0;34m==\u001b[0m \u001b[0;34m\"estimated\"\u001b[0m\u001b[0;34m:\u001b[0m\u001b[0;34m\u001b[0m\u001b[0;34m\u001b[0m\u001b[0m\n\u001b[1;32m    434\u001b[0m             \u001b[0;32mif\u001b[0m \u001b[0mself\u001b[0m\u001b[0;34m.\u001b[0m\u001b[0mnobs\u001b[0m \u001b[0;34m<\u001b[0m \u001b[0;36m10\u001b[0m \u001b[0;34m+\u001b[0m \u001b[0;36m2\u001b[0m \u001b[0;34m*\u001b[0m \u001b[0;34m(\u001b[0m\u001b[0mself\u001b[0m\u001b[0;34m.\u001b[0m\u001b[0mseasonal_periods\u001b[0m \u001b[0;34m//\u001b[0m \u001b[0;36m2\u001b[0m\u001b[0;34m)\u001b[0m\u001b[0;34m:\u001b[0m\u001b[0;34m\u001b[0m\u001b[0;34m\u001b[0m\u001b[0m\n\u001b[0;32m--> 435\u001b[0;31m                 \u001b[0;32mreturn\u001b[0m \u001b[0mself\u001b[0m\u001b[0;34m.\u001b[0m\u001b[0m_initialize_simple\u001b[0m\u001b[0;34m(\u001b[0m\u001b[0;34m)\u001b[0m\u001b[0;34m\u001b[0m\u001b[0;34m\u001b[0m\u001b[0m\n\u001b[0m\u001b[1;32m    436\u001b[0m             \u001b[0;32melse\u001b[0m\u001b[0;34m:\u001b[0m\u001b[0;34m\u001b[0m\u001b[0;34m\u001b[0m\u001b[0m\n\u001b[1;32m    437\u001b[0m                 \u001b[0;32mreturn\u001b[0m \u001b[0mself\u001b[0m\u001b[0;34m.\u001b[0m\u001b[0m_initialize_heuristic\u001b[0m\u001b[0;34m(\u001b[0m\u001b[0;34m)\u001b[0m\u001b[0;34m\u001b[0m\u001b[0;34m\u001b[0m\u001b[0m\n",
            "\u001b[0;32m/usr/local/lib/python3.11/dist-packages/statsmodels/tsa/holtwinters/model.py\u001b[0m in \u001b[0;36m_initialize_simple\u001b[0;34m(self)\u001b[0m\n\u001b[1;32m    440\u001b[0m         \u001b[0mtrend\u001b[0m \u001b[0;34m=\u001b[0m \u001b[0mself\u001b[0m\u001b[0;34m.\u001b[0m\u001b[0mtrend\u001b[0m \u001b[0;32mif\u001b[0m \u001b[0mself\u001b[0m\u001b[0;34m.\u001b[0m\u001b[0mhas_trend\u001b[0m \u001b[0;32melse\u001b[0m \u001b[0;32mFalse\u001b[0m\u001b[0;34m\u001b[0m\u001b[0;34m\u001b[0m\u001b[0m\n\u001b[1;32m    441\u001b[0m         \u001b[0mseasonal\u001b[0m \u001b[0;34m=\u001b[0m \u001b[0mself\u001b[0m\u001b[0;34m.\u001b[0m\u001b[0mseasonal\u001b[0m \u001b[0;32mif\u001b[0m \u001b[0mself\u001b[0m\u001b[0;34m.\u001b[0m\u001b[0mhas_seasonal\u001b[0m \u001b[0;32melse\u001b[0m \u001b[0;32mFalse\u001b[0m\u001b[0;34m\u001b[0m\u001b[0;34m\u001b[0m\u001b[0m\n\u001b[0;32m--> 442\u001b[0;31m         lvl, trend, seas = _initialization_simple(\n\u001b[0m\u001b[1;32m    443\u001b[0m             \u001b[0mself\u001b[0m\u001b[0;34m.\u001b[0m\u001b[0m_y\u001b[0m\u001b[0;34m,\u001b[0m \u001b[0mtrend\u001b[0m\u001b[0;34m,\u001b[0m \u001b[0mseasonal\u001b[0m\u001b[0;34m,\u001b[0m \u001b[0mself\u001b[0m\u001b[0;34m.\u001b[0m\u001b[0mseasonal_periods\u001b[0m\u001b[0;34m\u001b[0m\u001b[0;34m\u001b[0m\u001b[0m\n\u001b[1;32m    444\u001b[0m         )\n",
            "\u001b[0;32m/usr/local/lib/python3.11/dist-packages/statsmodels/tsa/exponential_smoothing/initialization.py\u001b[0m in \u001b[0;36m_initialization_simple\u001b[0;34m(endog, trend, seasonal, seasonal_periods)\u001b[0m\n\u001b[1;32m     24\u001b[0m     \u001b[0;32melse\u001b[0m\u001b[0;34m:\u001b[0m\u001b[0;34m\u001b[0m\u001b[0;34m\u001b[0m\u001b[0m\n\u001b[1;32m     25\u001b[0m         \u001b[0;32mif\u001b[0m \u001b[0mnobs\u001b[0m \u001b[0;34m<\u001b[0m \u001b[0;36m2\u001b[0m \u001b[0;34m*\u001b[0m \u001b[0mseasonal_periods\u001b[0m\u001b[0;34m:\u001b[0m\u001b[0;34m\u001b[0m\u001b[0;34m\u001b[0m\u001b[0m\n\u001b[0;32m---> 26\u001b[0;31m             raise ValueError('Cannot compute initial seasonals using'\n\u001b[0m\u001b[1;32m     27\u001b[0m                              \u001b[0;34m' heuristic method with less than two full'\u001b[0m\u001b[0;34m\u001b[0m\u001b[0;34m\u001b[0m\u001b[0m\n\u001b[1;32m     28\u001b[0m                              ' seasonal cycles in the data.')\n",
            "\u001b[0;31mValueError\u001b[0m: Cannot compute initial seasonals using heuristic method with less than two full seasonal cycles in the data."
          ]
        }
      ],
      "source": [
        "\n",
        "# Install necessary packages\n",
        "!pip install plotly statsmodels\n",
        "\n",
        "import pandas as pd\n",
        "import numpy as np\n",
        "import matplotlib.pyplot as plt\n",
        "import seaborn as sns\n",
        "import plotly.express as px\n",
        "from statsmodels.tsa.holtwinters import ExponentialSmoothing\n",
        "from datetime import datetime, timedelta\n",
        "import random\n",
        "import os\n",
        "\n",
        "# Project folder setup\n",
        "project_folder = '/content/Customer_Behavior_Project_Advanced'\n",
        "os.makedirs(project_folder, exist_ok=True)\n",
        "\n",
        "# ------------------------------\n",
        "# Step 1: Data Generation\n",
        "# ------------------------------\n",
        "np.random.seed(42)\n",
        "num_customers = 1000\n",
        "num_orders = 5000\n",
        "\n",
        "# Generate customers\n",
        "customers = pd.DataFrame({\n",
        "    'customer_id': np.arange(1, num_customers + 1),\n",
        "    'customer_name': [f'Customer_{i}' for i in range(1, num_customers + 1)],\n",
        "    'country': np.random.choice(['USA', 'Canada', 'UK', 'Germany', 'France'], num_customers)\n",
        "})\n",
        "\n",
        "# Generate orders\n",
        "orders = pd.DataFrame({\n",
        "    'order_id': np.arange(1, num_orders + 1),\n",
        "    'customer_id': np.random.choice(customers['customer_id'], num_orders),\n",
        "    'order_date': [datetime.today() - timedelta(days=random.randint(1, 365)) for _ in range(num_orders)],\n",
        "    'amount': np.random.exponential(scale=100, size=num_orders).round(2),\n",
        "    'product_category': np.random.choice(['Electronics', 'Fashion', 'Home', 'Toys', 'Books'], num_orders)\n",
        "})\n",
        "\n",
        "# Save datasets\n",
        "customers.to_csv(f'{project_folder}/customers.csv', index=False)\n",
        "orders.to_csv(f'{project_folder}/orders.csv', index=False)\n",
        "\n",
        "# ------------------------------\n",
        "# Step 2: Data Preparation\n",
        "# ------------------------------\n",
        "orders['order_date'] = pd.to_datetime(orders['order_date'])\n",
        "data = pd.merge(orders, customers, on='customer_id')\n",
        "\n",
        "# ------------------------------\n",
        "# Step 3: Predictive Analysis (Sales Forecast)\n",
        "# ------------------------------\n",
        "data['month'] = data['order_date'].dt.to_period('M').dt.to_timestamp()\n",
        "monthly_sales = data.groupby('month')['amount'].sum()\n",
        "\n",
        "# Forecasting using Exponential Smoothing\n",
        "model = ExponentialSmoothing(monthly_sales, trend='add', seasonal='add', seasonal_periods=12)\n",
        "fitted_model = model.fit()\n",
        "forecast = fitted_model.forecast(6)\n",
        "\n",
        "# Save forecast results\n",
        "forecast.to_csv(f'{project_folder}/sales_forecast.csv')\n",
        "\n",
        "# ------------------------------\n",
        "# Step 4: Interactive Dashboard with Plotly\n",
        "# ------------------------------\n",
        "fig = px.bar(data, x='country', y='amount', color='product_category', title='Sales by Country and Category')\n",
        "fig.write_html(f\"{project_folder}/interactive_sales_dashboard.html\")\n",
        "\n",
        "# ------------------------------\n",
        "# Step 5: Advanced Automation (Simulated Email Report)\n",
        "# ------------------------------\n",
        "with open(f'{project_folder}/automated_report.txt', 'w') as file:\n",
        "    file.write(\"Automated Report Summary:\\n\")\n",
        "    file.write(f\"Total Sales Forecast for Next 6 Months:\\n{forecast}\\n\")\n",
        "\n",
        "print(\"✅ Project completed with advanced features and reports saved!\")"
      ]
    },
    {
      "cell_type": "code",
      "execution_count": null,
      "metadata": {
        "colab": {
          "base_uri": "https://localhost:8080/",
          "height": 703
        },
        "id": "teyfbMp6KeTT",
        "outputId": "9a32af82-f0c1-4a25-d145-95483f3ae8d8"
      },
      "outputs": [
        {
          "ename": "ValueError",
          "evalue": "Length of values (8000) does not match length of index (5000)",
          "output_type": "error",
          "traceback": [
            "\u001b[0;31m---------------------------------------------------------------------------\u001b[0m",
            "\u001b[0;31mValueError\u001b[0m                                Traceback (most recent call last)",
            "\u001b[0;32m<ipython-input-13-67cda77c4f32>\u001b[0m in \u001b[0;36m<cell line: 0>\u001b[0;34m()\u001b[0m\n\u001b[1;32m      8\u001b[0m \u001b[0;31m# Regenerate orders for 2 years of data\u001b[0m\u001b[0;34m\u001b[0m\u001b[0;34m\u001b[0m\u001b[0m\n\u001b[1;32m      9\u001b[0m \u001b[0mnum_orders\u001b[0m \u001b[0;34m=\u001b[0m \u001b[0;36m8000\u001b[0m  \u001b[0;31m# Increase number of orders\u001b[0m\u001b[0;34m\u001b[0m\u001b[0;34m\u001b[0m\u001b[0m\n\u001b[0;32m---> 10\u001b[0;31m \u001b[0morders\u001b[0m\u001b[0;34m[\u001b[0m\u001b[0;34m'order_date'\u001b[0m\u001b[0;34m]\u001b[0m \u001b[0;34m=\u001b[0m \u001b[0;34m[\u001b[0m\u001b[0mdatetime\u001b[0m\u001b[0;34m.\u001b[0m\u001b[0mtoday\u001b[0m\u001b[0;34m(\u001b[0m\u001b[0;34m)\u001b[0m \u001b[0;34m-\u001b[0m \u001b[0mtimedelta\u001b[0m\u001b[0;34m(\u001b[0m\u001b[0mdays\u001b[0m\u001b[0;34m=\u001b[0m\u001b[0mrandom\u001b[0m\u001b[0;34m.\u001b[0m\u001b[0mrandint\u001b[0m\u001b[0;34m(\u001b[0m\u001b[0;36m1\u001b[0m\u001b[0;34m,\u001b[0m \u001b[0;36m730\u001b[0m\u001b[0;34m)\u001b[0m\u001b[0;34m)\u001b[0m \u001b[0;32mfor\u001b[0m \u001b[0m_\u001b[0m \u001b[0;32min\u001b[0m \u001b[0mrange\u001b[0m\u001b[0;34m(\u001b[0m\u001b[0mnum_orders\u001b[0m\u001b[0;34m)\u001b[0m\u001b[0;34m]\u001b[0m\u001b[0;34m\u001b[0m\u001b[0;34m\u001b[0m\u001b[0m\n\u001b[0m\u001b[1;32m     11\u001b[0m \u001b[0;34m\u001b[0m\u001b[0m\n\u001b[1;32m     12\u001b[0m \u001b[0;31m# Prepare the data\u001b[0m\u001b[0;34m\u001b[0m\u001b[0;34m\u001b[0m\u001b[0m\n",
            "\u001b[0;32m/usr/local/lib/python3.11/dist-packages/pandas/core/frame.py\u001b[0m in \u001b[0;36m__setitem__\u001b[0;34m(self, key, value)\u001b[0m\n\u001b[1;32m   4309\u001b[0m         \u001b[0;32melse\u001b[0m\u001b[0;34m:\u001b[0m\u001b[0;34m\u001b[0m\u001b[0;34m\u001b[0m\u001b[0m\n\u001b[1;32m   4310\u001b[0m             \u001b[0;31m# set column\u001b[0m\u001b[0;34m\u001b[0m\u001b[0;34m\u001b[0m\u001b[0m\n\u001b[0;32m-> 4311\u001b[0;31m             \u001b[0mself\u001b[0m\u001b[0;34m.\u001b[0m\u001b[0m_set_item\u001b[0m\u001b[0;34m(\u001b[0m\u001b[0mkey\u001b[0m\u001b[0;34m,\u001b[0m \u001b[0mvalue\u001b[0m\u001b[0;34m)\u001b[0m\u001b[0;34m\u001b[0m\u001b[0;34m\u001b[0m\u001b[0m\n\u001b[0m\u001b[1;32m   4312\u001b[0m \u001b[0;34m\u001b[0m\u001b[0m\n\u001b[1;32m   4313\u001b[0m     \u001b[0;32mdef\u001b[0m \u001b[0m_setitem_slice\u001b[0m\u001b[0;34m(\u001b[0m\u001b[0mself\u001b[0m\u001b[0;34m,\u001b[0m \u001b[0mkey\u001b[0m\u001b[0;34m:\u001b[0m \u001b[0mslice\u001b[0m\u001b[0;34m,\u001b[0m \u001b[0mvalue\u001b[0m\u001b[0;34m)\u001b[0m \u001b[0;34m->\u001b[0m \u001b[0;32mNone\u001b[0m\u001b[0;34m:\u001b[0m\u001b[0;34m\u001b[0m\u001b[0;34m\u001b[0m\u001b[0m\n",
            "\u001b[0;32m/usr/local/lib/python3.11/dist-packages/pandas/core/frame.py\u001b[0m in \u001b[0;36m_set_item\u001b[0;34m(self, key, value)\u001b[0m\n\u001b[1;32m   4522\u001b[0m         \u001b[0mensure\u001b[0m \u001b[0mhomogeneity\u001b[0m\u001b[0;34m.\u001b[0m\u001b[0;34m\u001b[0m\u001b[0;34m\u001b[0m\u001b[0m\n\u001b[1;32m   4523\u001b[0m         \"\"\"\n\u001b[0;32m-> 4524\u001b[0;31m         \u001b[0mvalue\u001b[0m\u001b[0;34m,\u001b[0m \u001b[0mrefs\u001b[0m \u001b[0;34m=\u001b[0m \u001b[0mself\u001b[0m\u001b[0;34m.\u001b[0m\u001b[0m_sanitize_column\u001b[0m\u001b[0;34m(\u001b[0m\u001b[0mvalue\u001b[0m\u001b[0;34m)\u001b[0m\u001b[0;34m\u001b[0m\u001b[0;34m\u001b[0m\u001b[0m\n\u001b[0m\u001b[1;32m   4525\u001b[0m \u001b[0;34m\u001b[0m\u001b[0m\n\u001b[1;32m   4526\u001b[0m         if (\n",
            "\u001b[0;32m/usr/local/lib/python3.11/dist-packages/pandas/core/frame.py\u001b[0m in \u001b[0;36m_sanitize_column\u001b[0;34m(self, value)\u001b[0m\n\u001b[1;32m   5264\u001b[0m \u001b[0;34m\u001b[0m\u001b[0m\n\u001b[1;32m   5265\u001b[0m         \u001b[0;32mif\u001b[0m \u001b[0mis_list_like\u001b[0m\u001b[0;34m(\u001b[0m\u001b[0mvalue\u001b[0m\u001b[0;34m)\u001b[0m\u001b[0;34m:\u001b[0m\u001b[0;34m\u001b[0m\u001b[0;34m\u001b[0m\u001b[0m\n\u001b[0;32m-> 5266\u001b[0;31m             \u001b[0mcom\u001b[0m\u001b[0;34m.\u001b[0m\u001b[0mrequire_length_match\u001b[0m\u001b[0;34m(\u001b[0m\u001b[0mvalue\u001b[0m\u001b[0;34m,\u001b[0m \u001b[0mself\u001b[0m\u001b[0;34m.\u001b[0m\u001b[0mindex\u001b[0m\u001b[0;34m)\u001b[0m\u001b[0;34m\u001b[0m\u001b[0;34m\u001b[0m\u001b[0m\n\u001b[0m\u001b[1;32m   5267\u001b[0m         \u001b[0marr\u001b[0m \u001b[0;34m=\u001b[0m \u001b[0msanitize_array\u001b[0m\u001b[0;34m(\u001b[0m\u001b[0mvalue\u001b[0m\u001b[0;34m,\u001b[0m \u001b[0mself\u001b[0m\u001b[0;34m.\u001b[0m\u001b[0mindex\u001b[0m\u001b[0;34m,\u001b[0m \u001b[0mcopy\u001b[0m\u001b[0;34m=\u001b[0m\u001b[0;32mTrue\u001b[0m\u001b[0;34m,\u001b[0m \u001b[0mallow_2d\u001b[0m\u001b[0;34m=\u001b[0m\u001b[0;32mTrue\u001b[0m\u001b[0;34m)\u001b[0m\u001b[0;34m\u001b[0m\u001b[0;34m\u001b[0m\u001b[0m\n\u001b[1;32m   5268\u001b[0m         if (\n",
            "\u001b[0;32m/usr/local/lib/python3.11/dist-packages/pandas/core/common.py\u001b[0m in \u001b[0;36mrequire_length_match\u001b[0;34m(data, index)\u001b[0m\n\u001b[1;32m    571\u001b[0m     \"\"\"\n\u001b[1;32m    572\u001b[0m     \u001b[0;32mif\u001b[0m \u001b[0mlen\u001b[0m\u001b[0;34m(\u001b[0m\u001b[0mdata\u001b[0m\u001b[0;34m)\u001b[0m \u001b[0;34m!=\u001b[0m \u001b[0mlen\u001b[0m\u001b[0;34m(\u001b[0m\u001b[0mindex\u001b[0m\u001b[0;34m)\u001b[0m\u001b[0;34m:\u001b[0m\u001b[0;34m\u001b[0m\u001b[0;34m\u001b[0m\u001b[0m\n\u001b[0;32m--> 573\u001b[0;31m         raise ValueError(\n\u001b[0m\u001b[1;32m    574\u001b[0m             \u001b[0;34m\"Length of values \"\u001b[0m\u001b[0;34m\u001b[0m\u001b[0;34m\u001b[0m\u001b[0m\n\u001b[1;32m    575\u001b[0m             \u001b[0;34mf\"({len(data)}) \"\u001b[0m\u001b[0;34m\u001b[0m\u001b[0;34m\u001b[0m\u001b[0m\n",
            "\u001b[0;31mValueError\u001b[0m: Length of values (8000) does not match length of index (5000)"
          ]
        }
      ],
      "source": [
        "\n",
        "from statsmodels.tsa.holtwinters import ExponentialSmoothing\n",
        "from datetime import datetime, timedelta\n",
        "import pandas as pd\n",
        "import numpy as np\n",
        "import random\n",
        "import os\n",
        "\n",
        "# Regenerate orders for 2 years of data\n",
        "num_orders = 8000  # Increase number of orders\n",
        "orders['order_date'] = [datetime.today() - timedelta(days=random.randint(1, 730)) for _ in range(num_orders)]\n",
        "\n",
        "# Prepare the data\n",
        "orders['order_date'] = pd.to_datetime(orders['order_date'])\n",
        "data['month'] = orders['order_date'].dt.to_period('M').dt.to_timestamp()\n",
        "monthly_sales = data.groupby('month')['amount'].sum()\n",
        "\n",
        "# Apply Exponential Smoothing again\n",
        "model = ExponentialSmoothing(monthly_sales, trend='add', seasonal='add', seasonal_periods=12)\n",
        "fitted_model = model.fit()\n",
        "forecast = fitted_model.forecast(6)\n",
        "\n",
        "# Save the updated forecast\n",
        "forecast.to_csv(f'{project_folder}/updated_sales_forecast.csv')\n",
        "\n",
        "print(\"✅ Extended data and updated forecast saved successfully!\")"
      ]
    },
    {
      "cell_type": "code",
      "execution_count": null,
      "metadata": {
        "colab": {
          "base_uri": "https://localhost:8080/"
        },
        "id": "d0hOT96OK4xc",
        "outputId": "4ce186e3-adeb-4677-b2fa-8d7a6486183a"
      },
      "outputs": [
        {
          "name": "stdout",
          "output_type": "stream",
          "text": [
            "✅ Extended data and updated forecast saved successfully!\n"
          ]
        },
        {
          "name": "stderr",
          "output_type": "stream",
          "text": [
            "/usr/local/lib/python3.11/dist-packages/statsmodels/tsa/base/tsa_model.py:473: ValueWarning: No frequency information was provided, so inferred frequency MS will be used.\n",
            "  self._init_dates(dates, freq)\n",
            "/usr/local/lib/python3.11/dist-packages/statsmodels/tsa/holtwinters/model.py:918: ConvergenceWarning: Optimization failed to converge. Check mle_retvals.\n",
            "  warnings.warn(\n"
          ]
        }
      ],
      "source": [
        "\n",
        "from statsmodels.tsa.holtwinters import ExponentialSmoothing\n",
        "from datetime import datetime, timedelta\n",
        "import pandas as pd\n",
        "import numpy as np\n",
        "import random\n",
        "import os\n",
        "\n",
        "# Regenerate orders with 8000 records for 2 years\n",
        "num_orders = 8000\n",
        "orders = pd.DataFrame({\n",
        "    'order_id': np.arange(1, num_orders + 1),\n",
        "    'customer_id': np.random.choice(customers['customer_id'], num_orders),\n",
        "    'order_date': [datetime.today() - timedelta(days=random.randint(1, 730)) for _ in range(num_orders)],\n",
        "    'amount': np.random.exponential(scale=100, size=num_orders).round(2),\n",
        "    'product_category': np.random.choice(['Electronics', 'Fashion', 'Home', 'Toys', 'Books'], num_orders)\n",
        "})\n",
        "\n",
        "# Prepare the data\n",
        "orders['order_date'] = pd.to_datetime(orders['order_date'])\n",
        "data = pd.merge(orders, customers, on='customer_id')\n",
        "data['month'] = data['order_date'].dt.to_period('M').dt.to_timestamp()\n",
        "monthly_sales = data.groupby('month')['amount'].sum()\n",
        "\n",
        "# Apply Exponential Smoothing again\n",
        "model = ExponentialSmoothing(monthly_sales, trend='add', seasonal='add', seasonal_periods=12)\n",
        "fitted_model = model.fit()\n",
        "forecast = fitted_model.forecast(6)\n",
        "\n",
        "# Save the updated forecast\n",
        "forecast.to_csv(f'{project_folder}/updated_sales_forecast.csv')\n",
        "\n",
        "print(\"✅ Extended data and updated forecast saved successfully!\")"
      ]
    },
    {
      "cell_type": "code",
      "execution_count": null,
      "metadata": {
        "colab": {
          "base_uri": "https://localhost:8080/"
        },
        "id": "DSOOqWAZhRny",
        "outputId": "e0a18ac4-e88a-4079-a483-5ed267158602"
      },
      "outputs": [
        {
          "name": "stdout",
          "output_type": "stream",
          "text": [
            "Mounted at /content/drive\n"
          ]
        }
      ],
      "source": [
        "\n",
        "from google.colab import drive\n",
        "drive.mount('/content/drive')"
      ]
    },
    {
      "cell_type": "code",
      "execution_count": null,
      "metadata": {
        "colab": {
          "base_uri": "https://localhost:8080/"
        },
        "id": "1Ir1yWTyhdMX",
        "outputId": "9f03b276-011f-44c4-b78c-07a1aa423cd9"
      },
      "outputs": [
        {
          "name": "stdout",
          "output_type": "stream",
          "text": [
            "Project folder created at: /content/drive/My Drive/customer_behavior_project\n"
          ]
        }
      ],
      "source": [
        "\n",
        "import os\n",
        "\n",
        "# Define the path to the project folder\n",
        "project_path = \"/content/drive/My Drive/customer_behavior_project\"\n",
        "\n",
        "# Create the folder if it doesn't exist\n",
        "os.makedirs(project_path, exist_ok=True)\n",
        "\n",
        "print(f\"Project folder created at: {project_path}\")"
      ]
    },
    {
      "cell_type": "code",
      "execution_count": null,
      "metadata": {
        "colab": {
          "base_uri": "https://localhost:8080/"
        },
        "id": "Nj8C_88ght7l",
        "outputId": "aa31038a-60fc-4fdf-e779-f7872e72802b"
      },
      "outputs": [
        {
          "name": "stdout",
          "output_type": "stream",
          "text": [
            "CSV file created at: /content/drive/My Drive/customer_behavior_project/data.csv\n"
          ]
        }
      ],
      "source": [
        "\n",
        "import pandas as pd\n",
        "\n",
        "# Sample data\n",
        "data = {\n",
        "    \"Customer_ID\": [1, 2, 3],\n",
        "    \"Name\": [\"Alice\", \"Bob\", \"Charlie\"],\n",
        "    \"Age\": [25, 30, 35],\n",
        "    \"Spending_Score\": [80, 60, 40]\n",
        "}\n",
        "\n",
        "df = pd.DataFrame(data)\n",
        "\n",
        "# Save to CSV\n",
        "csv_path = os.path.join(project_path, \"data.csv\")\n",
        "df.to_csv(csv_path, index=False)\n",
        "\n",
        "print(f\"CSV file created at: {csv_path}\")"
      ]
    },
    {
      "cell_type": "code",
      "execution_count": null,
      "metadata": {
        "colab": {
          "base_uri": "https://localhost:8080/"
        },
        "id": "4OsnO3tYijep",
        "outputId": "5fd5db2d-126c-48d8-e938-2e45e20c3973"
      },
      "outputs": [
        {
          "name": "stdout",
          "output_type": "stream",
          "text": [
            "README.md file created at: /content/drive/My Drive/customer_behavior_project/README.md\n"
          ]
        }
      ],
      "source": [
        "\n",
        "readme_content = \"\"\"# Customer Behavior Analysis\n",
        "This project analyzes customer data to understand spending behavior and patterns.\n",
        "## Files\n",
        "- `data.csv`: Sample customer data.\n",
        "- `analysis.ipynb`: Jupyter notebook with data analysis.\n",
        "\"\"\"\n",
        "\n",
        "# Save the README.md file\n",
        "readme_path = os.path.join(project_path, \"README.md\")\n",
        "with open(readme_path, \"w\") as f:\n",
        "    f.write(readme_content)\n",
        "\n",
        "print(f\"README.md file created at: {readme_path}\")"
      ]
    },
    {
      "cell_type": "code",
      "execution_count": null,
      "metadata": {
        "colab": {
          "base_uri": "https://localhost:8080/"
        },
        "id": "F3RN9wE5i19a",
        "outputId": "522ac7c0-bf8d-4299-d12a-66664da1dad8"
      },
      "outputs": [
        {
          "name": "stdout",
          "output_type": "stream",
          "text": [
            "Notebook file created at: /content/drive/My Drive/customer_behavior_project/analysis.ipynb\n"
          ]
        }
      ],
      "source": [
        "\n",
        "import nbformat as nbf\n",
        "\n",
        "nb = nbf.v4.new_notebook()\n",
        "\n",
        "code_cells = [\n",
        "    \"import pandas as pd\\n\\n# Load data\\ndf = pd.read_csv('data.csv')\\ndf.head()\",\n",
        "    \"import matplotlib.pyplot as plt\\n\\n# Plot spending score\\ndf.plot(kind='bar', x='Name', y='Spending_Score')\\nplt.show()\"\n",
        "]\n",
        "\n",
        "# Add cells to the notebook\n",
        "nb['cells'] = [nbf.v4.new_code_cell(cell) for cell in code_cells]\n",
        "\n",
        "# Save the notebook\n",
        "notebook_path = os.path.join(project_path, \"analysis.ipynb\")\n",
        "with open(notebook_path, \"w\") as f:\n",
        "    nbf.write(nb, f)\n",
        "\n",
        "print(f\"Notebook file created at: {notebook_path}\")"
      ]
    },
    {
      "cell_type": "code",
      "execution_count": null,
      "metadata": {
        "colab": {
          "base_uri": "https://localhost:8080/"
        },
        "id": "1X4Wvg-wi9AB",
        "outputId": "e0df468f-2b24-4bc1-b208-d32664417cff"
      },
      "outputs": [
        {
          "name": "stdout",
          "output_type": "stream",
          "text": [
            "Reading package lists... Done\n",
            "Building dependency tree... Done\n",
            "Reading state information... Done\n",
            "git is already the newest version (1:2.34.1-1ubuntu1.12).\n",
            "0 upgraded, 0 newly installed, 0 to remove and 29 not upgraded.\n"
          ]
        }
      ],
      "source": [
        "!apt-get install git"
      ]
    },
    {
      "cell_type": "code",
      "execution_count": null,
      "metadata": {
        "colab": {
          "base_uri": "https://localhost:8080/"
        },
        "id": "oz8xA5d-Mwd2",
        "outputId": "870cac6c-917a-4344-a2b0-5b830208f465"
      },
      "outputs": [
        {
          "name": "stdout",
          "output_type": "stream",
          "text": [
            "Mounted at /content/drive\n"
          ]
        }
      ],
      "source": [
        "\n",
        "from google.colab import drive\n",
        "drive.mount('/content/drive')"
      ]
    },
    {
      "cell_type": "code",
      "execution_count": null,
      "metadata": {
        "colab": {
          "base_uri": "https://localhost:8080/"
        },
        "id": "hyUuZG8HNWJ8",
        "outputId": "2d40c66f-f9a2-4db5-8f60-404a65fe9d64"
      },
      "outputs": [
        {
          "name": "stdout",
          "output_type": "stream",
          "text": [
            "Project structure created successfully.\n"
          ]
        }
      ],
      "source": [
        "\n",
        "import os\n",
        "\n",
        "# Define the base directory for the project\n",
        "base_dir = '/content/drive/My Drive/customer_behavior_project'\n",
        "\n",
        "# Define the subdirectories\n",
        "subdirs = ['data', 'reports', 'docs', 'scripts']\n",
        "\n",
        "# Create directories\n",
        "for subdir in subdirs:\n",
        "    os.makedirs(os.path.join(base_dir, subdir), exist_ok=True)\n",
        "\n",
        "print(\"Project structure created successfully.\")"
      ]
    },
    {
      "cell_type": "code",
      "execution_count": null,
      "metadata": {
        "colab": {
          "base_uri": "https://localhost:8080/"
        },
        "id": "3D1HtEUtN4n9",
        "outputId": "a01eae79-642b-49b5-fe3e-0b5de3fbabf4"
      },
      "outputs": [
        {
          "name": "stdout",
          "output_type": "stream",
          "text": [
            "README.md created.\n"
          ]
        }
      ],
      "source": [
        "\n",
        "readme_content = \"\"\"\n",
        "# Customer Behavior Project\n",
        "\n",
        "## Overview\n",
        "This project analyzes advanced customer behavior patterns and simulates futuristic cybersecurity threats. It aims to develop predictive analytics, defense mechanisms, and automation strategies that will be crucial for data analysts in the coming years.\n",
        "\n",
        "## Key Features\n",
        "- **Advanced Data Simulation**: Realistic and complex customer data.\n",
        "- **Cybersecurity Threat Simulation**: Analysis of potential data breaches.\n",
        "- **Predictive Models**: AI-driven analysis for future trends.\n",
        "- **Automated Defense Systems**: Learning how to detect and defend against advanced threats.\n",
        "\n",
        "## Author\n",
        "- **GitHub**: [ElevenStream](https://github.com/ElevenStream)\n",
        "- **Email**: luftraum@tutanota.de\n",
        "\"\"\"\n",
        "\n",
        "with open(os.path.join(base_dir, 'README.md'), 'w') as f:\n",
        "    f.write(readme_content)\n",
        "\n",
        "print(\"README.md created.\")"
      ]
    },
    {
      "cell_type": "code",
      "execution_count": null,
      "metadata": {
        "colab": {
          "base_uri": "https://localhost:8080/"
        },
        "id": "4q0F14umOYNf",
        "outputId": "9d854ad7-24bd-4904-ea81-0a02673d43e9"
      },
      "outputs": [
        {
          "name": "stdout",
          "output_type": "stream",
          "text": [
            "Simulated customer behavior data created.\n"
          ]
        }
      ],
      "source": [
        "\n",
        "import pandas as pd\n",
        "import numpy as np\n",
        "\n",
        "# Simulated customer data\n",
        "np.random.seed(42)\n",
        "data = {\n",
        "    'customer_id': np.arange(1000, 1050),\n",
        "    'age': np.random.randint(18, 70, 50),\n",
        "    'gender': np.random.choice(['Male', 'Female'], 50),\n",
        "    'purchase_amount': np.random.uniform(20.5, 500.75, 50).round(2),\n",
        "    'purchase_frequency': np.random.randint(1, 20, 50),\n",
        "    'last_purchase': pd.date_range(end=pd.Timestamp.today(), periods=50).strftime('%Y-%m-%d')\n",
        "}\n",
        "\n",
        "df = pd.DataFrame(data)\n",
        "df.to_csv(os.path.join(base_dir, 'data', 'customer_behavior.csv'), index=False)\n",
        "\n",
        "print(\"Simulated customer behavior data created.\")"
      ]
    },
    {
      "cell_type": "code",
      "execution_count": null,
      "metadata": {
        "colab": {
          "base_uri": "https://localhost:8080/"
        },
        "id": "UALKgDrLOk-g",
        "outputId": "34e4b240-816e-407b-b7da-ea9108de6d54"
      },
      "outputs": [
        {
          "name": "stdout",
          "output_type": "stream",
          "text": [
            "Simulated threat data created.\n"
          ]
        }
      ],
      "source": [
        "\n",
        "# Simulated cybersecurity threat data\n",
        "threat_data = {\n",
        "    'threat_id': np.arange(1, 21),\n",
        "    'attack_type': np.random.choice(['Phishing', 'Brute Force', 'SQL Injection', 'Malware'], 20),\n",
        "    'severity': np.random.choice(['Low', 'Medium', 'High', 'Critical'], 20),\n",
        "    'target_system': np.random.choice(['Database', 'Application', 'Network'], 20),\n",
        "    'detection_method': np.random.choice(['AI Model', 'Manual Review', 'Firewall'], 20),\n",
        "    'date_detected': pd.date_range(end=pd.Timestamp.today(), periods=20).strftime('%Y-%m-%d')\n",
        "}\n",
        "\n",
        "threat_df = pd.DataFrame(threat_data)\n",
        "threat_df.to_csv(os.path.join(base_dir, 'data', 'threat_simulation.csv'), index=False)\n",
        "\n",
        "print(\"Simulated threat data created.\")"
      ]
    },
    {
      "cell_type": "code",
      "execution_count": null,
      "metadata": {
        "colab": {
          "base_uri": "https://localhost:8080/"
        },
        "id": "Le7aEy-oPZ2e",
        "outputId": "b33ac22b-0a00-4585-e841-af31ae0a9878"
      },
      "outputs": [
        {
          "name": "stdout",
          "output_type": "stream",
          "text": [
            "Collecting fpdf\n",
            "  Downloading fpdf-1.7.2.tar.gz (39 kB)\n",
            "  Preparing metadata (setup.py) ... \u001b[?25l\u001b[?25hdone\n",
            "Building wheels for collected packages: fpdf\n",
            "  Building wheel for fpdf (setup.py) ... \u001b[?25l\u001b[?25hdone\n",
            "  Created wheel for fpdf: filename=fpdf-1.7.2-py2.py3-none-any.whl size=40704 sha256=cda497a1c56f29b8160eb9ea6a66b9393d81f4b418ae5df033127a930967c5c9\n",
            "  Stored in directory: /root/.cache/pip/wheels/65/4f/66/bbda9866da446a72e206d6484cd97381cbc7859a7068541c36\n",
            "Successfully built fpdf\n",
            "Installing collected packages: fpdf\n",
            "Successfully installed fpdf-1.7.2\n"
          ]
        }
      ],
      "source": [
        "!pip install fpdf"
      ]
    },
    {
      "cell_type": "code",
      "execution_count": null,
      "metadata": {
        "colab": {
          "base_uri": "https://localhost:8080/"
        },
        "id": "2N_LXqa7O8cf",
        "outputId": "6d816192-2e17-4aae-b1d4-70865ffba394"
      },
      "outputs": [
        {
          "name": "stdout",
          "output_type": "stream",
          "text": [
            "PDF report created.\n"
          ]
        }
      ],
      "source": [
        "\n",
        "from fpdf import FPDF\n",
        "\n",
        "pdf = FPDF()\n",
        "pdf.add_page()\n",
        "pdf.set_font(\"Arial\", size=12)\n",
        "pdf.multi_cell(0, 10, \"Customer Behavior Project Report\\n\\nThis report covers initial data simulations and cybersecurity threat scenarios for advanced data analysis.\", align=\"L\")\n",
        "pdf.output(os.path.join(base_dir, 'reports', 'project_report.pdf'))\n",
        "\n",
        "print(\"PDF report created.\")"
      ]
    },
    {
      "cell_type": "code",
      "execution_count": null,
      "metadata": {
        "id": "PsDlsib7rFlT"
      },
      "outputs": [],
      "source": [
        "\n",
        "import os\n",
        "\n",
        "# List all files and directories from the root level to find the file\n",
        "for root, dirs, files in os.walk('/'):\n",
        "    for file in files:\n",
        "        if 'Customer_Behavior' in file:\n",
        "            print(os.path.join(root, file))"
      ]
    },
    {
      "cell_type": "code",
      "execution_count": null,
      "metadata": {
        "colab": {
          "base_uri": "https://localhost:8080/"
        },
        "id": "WKKKvBAkuYpn",
        "outputId": "dfe6ec55-a48b-48af-d053-c4f421fca5fa"
      },
      "outputs": [
        {
          "output_type": "stream",
          "name": "stdout",
          "text": [
            "Mounted at /content/drive\n",
            "Google Drive mounted and project structure with initial files created successfully.\n"
          ]
        }
      ],
      "source": [
        "\n",
        "from google.colab import drive\n",
        "import os\n",
        "\n",
        "# Step 1: Mount Google Drive\n",
        "drive.mount('/content/drive')\n",
        "\n",
        "# Step 2: Define the base directory within Google Drive\n",
        "base_dir = '/content/drive/MyDrive/customer_behavior_project'\n",
        "\n",
        "# Define subdirectories\n",
        "subdirs = ['data', 'reports', 'scripts']\n",
        "\n",
        "# Create the directories\n",
        "for subdir in subdirs:\n",
        "    os.makedirs(os.path.join(base_dir, subdir), exist_ok=True)\n",
        "\n",
        "# Step 3: Create README.md file\n",
        "readme_content = \"\"\"\n",
        "# Customer Behavior Project\n",
        "\n",
        "This project involves advanced data analysis for customer behavior, predictive modeling, anomaly detection, and simulated cybersecurity analytics. It is designed to reflect the future skills required for data analysts.\n",
        "\n",
        "## Project Structure\n",
        "\n",
        "- **data/**: Contains datasets like customers, orders, behavior logs, and simulated attack data.\n",
        "- **reports/**: Stores generated PDF reports.\n",
        "- **scripts/**: Contains Python code and Jupyter notebooks.\n",
        "- **README.md**: This file.\n",
        "- **requirements.txt**: Python dependencies.\n",
        "\n",
        "## Key Features\n",
        "\n",
        "- Predictive analytics (customer churn prediction).\n",
        "- Anomaly detection in purchasing behavior.\n",
        "- Simulated cybersecurity scenarios and defense strategies.\n",
        "- Automated reporting with PDF generation.\n",
        "\"\"\"\n",
        "\n",
        "with open(os.path.join(base_dir, 'README.md'), 'w') as f:\n",
        "    f.write(readme_content)\n",
        "\n",
        "# Step 4: Create requirements.txt file\n",
        "requirements_content = \"\"\"\n",
        "pandas\n",
        "numpy\n",
        "matplotlib\n",
        "seaborn\n",
        "scikit-learn\n",
        "fpdf\n",
        "\"\"\"\n",
        "\n",
        "with open(os.path.join(base_dir, 'requirements.txt'), 'w') as f:\n",
        "    f.write(requirements_content)\n",
        "\n",
        "print(\"Google Drive mounted and project structure with initial files created successfully.\")"
      ]
    },
    {
      "cell_type": "code",
      "execution_count": null,
      "metadata": {
        "colab": {
          "base_uri": "https://localhost:8080/"
        },
        "id": "Vl1ug1xKucpn",
        "outputId": "51010301-5a1b-4080-9a07-642e9d687df1"
      },
      "outputs": [
        {
          "output_type": "stream",
          "name": "stdout",
          "text": [
            "Drive already mounted at /content/drive; to attempt to forcibly remount, call drive.mount(\"/content/drive\", force_remount=True).\n",
            "Drive already mounted at /content/drive; to attempt to forcibly remount, call drive.mount('/content/drive', force_remount=True).\n",
            "Google Drive mounted and project structure with initial files created successfully.\n"
          ]
        }
      ],
      "source": [
        "\n",
        "from google.colab import drive\n",
        "import os\n",
        "\n",
        "# Step 1: Mount Google Drive (skip if already mounted)\n",
        "drive.mount('/content/drive', force_remount=False)\n",
        "\n",
        "# Step 2: Define the base directory within Google Drive\n",
        "base_dir = '/content/drive/MyDrive/customer_behavior_project'\n",
        "\n",
        "# Define subdirectories\n",
        "subdirs = ['data', 'reports', 'scripts']\n",
        "\n",
        "# Create the directories\n",
        "for subdir in subdirs:\n",
        "    os.makedirs(os.path.join(base_dir, subdir), exist_ok=True)\n",
        "\n",
        "# Step 3: Create README.md file\n",
        "readme_content = \"\"\"\n",
        "# Customer Behavior Project\n",
        "\n",
        "This project involves advanced data analysis for customer behavior, predictive modeling, anomaly detection, and simulated cybersecurity analytics. It is designed to reflect the future skills required for data analysts.\n",
        "\n",
        "## Project Structure\n",
        "\n",
        "- **data/**: Contains datasets like customers, orders, behavior logs, and simulated attack data.\n",
        "- **reports/**: Stores generated PDF reports.\n",
        "- **scripts/**: Contains Python code and Jupyter notebooks.\n",
        "- **README.md**: This file.\n",
        "- **requirements.txt**: Python dependencies.\n",
        "\n",
        "## Key Features\n",
        "\n",
        "- Predictive analytics (customer churn prediction).\n",
        "- Anomaly detection in purchasing behavior.\n",
        "- Simulated cybersecurity scenarios and defense strategies.\n",
        "- Automated reporting with PDF generation.\n",
        "\"\"\"\n",
        "\n",
        "with open(os.path.join(base_dir, 'README.md'), 'w') as f:\n",
        "    f.write(readme_content)\n",
        "\n",
        "# Step 4: Create requirements.txt file\n",
        "requirements_content = \"\"\"\n",
        "pandas\n",
        "numpy\n",
        "matplotlib\n",
        "seaborn\n",
        "scikit-learn\n",
        "fpdf\n",
        "\"\"\"\n",
        "\n",
        "with open(os.path.join(base_dir, 'requirements.txt'), 'w') as f:\n",
        "    f.write(requirements_content)\n",
        "\n",
        "print(\"Drive already mounted at /content/drive; to attempt to forcibly remount, call drive.mount('/content/drive', force_remount=True).\")\n",
        "print(\"Google Drive mounted and project structure with initial files created successfully.\")"
      ]
    },
    {
      "cell_type": "code",
      "execution_count": null,
      "metadata": {
        "colab": {
          "base_uri": "https://localhost:8080/"
        },
        "id": "u8L924JHvZR3",
        "outputId": "7b174d9d-b0a7-48fb-e5a2-1e93d29ec2ac"
      },
      "outputs": [
        {
          "output_type": "stream",
          "name": "stdout",
          "text": [
            "All data files generated and saved in the 'data' folder successfully.\n"
          ]
        }
      ],
      "source": [
        "\n",
        "import pandas as pd\n",
        "import numpy as np\n",
        "from datetime import datetime, timedelta\n",
        "import random\n",
        "import os\n",
        "\n",
        "# Define the data directory\n",
        "data_dir = os.path.join(base_dir, 'data')\n",
        "\n",
        "# 1. Generate customers.csv\n",
        "num_customers = 100\n",
        "customers = {\n",
        "    \"customer_id\": range(1, num_customers + 1),\n",
        "    \"name\": [f\"Customer_{i}\" for i in range(1, num_customers + 1)],\n",
        "    \"email\": [f\"customer{i}@example.com\" for i in range(1, num_customers + 1)],\n",
        "    \"signup_date\": [datetime.now() - timedelta(days=random.randint(1, 1000)) for _ in range(num_customers)],\n",
        "    \"country\": np.random.choice([\"USA\", \"UK\", \"Canada\", \"Germany\", \"Australia\"], num_customers)\n",
        "}\n",
        "\n",
        "pd.DataFrame(customers).to_csv(os.path.join(data_dir, 'customers.csv'), index=False)\n",
        "\n",
        "# 2. Generate orders.csv\n",
        "num_orders = 500\n",
        "orders = {\n",
        "    \"order_id\": range(1, num_orders + 1),\n",
        "    \"customer_id\": np.random.choice(customers[\"customer_id\"], num_orders),\n",
        "    \"order_date\": [datetime.now() - timedelta(days=random.randint(1, 365)) for _ in range(num_orders)],\n",
        "    \"amount\": np.random.uniform(20.0, 1000.0, num_orders).round(2),\n",
        "    \"payment_method\": np.random.choice([\"Credit Card\", \"PayPal\", \"Bitcoin\"], num_orders)\n",
        "}\n",
        "\n",
        "pd.DataFrame(orders).to_csv(os.path.join(data_dir, 'orders.csv'), index=False)\n",
        "\n",
        "# 3. Generate behavior_logs.csv\n",
        "num_logs = 1000\n",
        "behavior_logs = {\n",
        "    \"log_id\": range(1, num_logs + 1),\n",
        "    \"customer_id\": np.random.choice(customers[\"customer_id\"], num_logs),\n",
        "    \"timestamp\": [datetime.now() - timedelta(minutes=random.randint(1, 10000)) for _ in range(num_logs)],\n",
        "    \"action\": np.random.choice([\"click\", \"view\", \"purchase\", \"cart_addition\"], num_logs),\n",
        "    \"page_visited\": np.random.choice([\"home\", \"product\", \"checkout\", \"search\"], num_logs)\n",
        "}\n",
        "\n",
        "pd.DataFrame(behavior_logs).to_csv(os.path.join(data_dir, 'behavior_logs.csv'), index=False)\n",
        "\n",
        "# 4. Generate cyber_attack_logs.csv (simulated futuristic attack patterns)\n",
        "num_attacks = 300\n",
        "attack_logs = {\n",
        "    \"attack_id\": range(1, num_attacks + 1),\n",
        "    \"timestamp\": [datetime.now() - timedelta(minutes=random.randint(1, 10000)) for _ in range(num_attacks)],\n",
        "    \"attack_type\": np.random.choice([\"phishing\", \"AI-predictive breach\", \"quantum intrusion\", \"deepfake scam\"], num_attacks),\n",
        "    \"severity\": np.random.choice([\"low\", \"medium\", \"high\", \"critical\"], num_attacks),\n",
        "    \"target\": np.random.choice([\"customer_account\", \"payment_gateway\", \"internal_system\"], num_attacks),\n",
        "    \"status\": np.random.choice([\"detected\", \"blocked\", \"missed\"], num_attacks)\n",
        "}\n",
        "\n",
        "pd.DataFrame(attack_logs).to_csv(os.path.join(data_dir, 'cyber_attack_logs.csv'), index=False)\n",
        "\n",
        "print(\"All data files generated and saved in the 'data' folder successfully.\")"
      ]
    },
    {
      "cell_type": "code",
      "execution_count": null,
      "metadata": {
        "colab": {
          "base_uri": "https://localhost:8080/"
        },
        "id": "kgtg14XIvvVw",
        "outputId": "fdb54e49-63be-45d1-8b8b-c21e8cd1741c"
      },
      "outputs": [
        {
          "output_type": "stream",
          "name": "stdout",
          "text": [
            "Advanced analytics completed. Reports saved in the 'reports' folder.\n"
          ]
        }
      ],
      "source": [
        "\n",
        "import pandas as pd\n",
        "import numpy as np\n",
        "import matplotlib.pyplot as plt\n",
        "import seaborn as sns\n",
        "from sklearn.cluster import KMeans\n",
        "from sklearn.ensemble import IsolationForest\n",
        "from sklearn.model_selection import train_test_split\n",
        "from sklearn.ensemble import RandomForestClassifier\n",
        "from sklearn.metrics import classification_report, confusion_matrix\n",
        "import os\n",
        "\n",
        "# Load datasets\n",
        "data_dir = os.path.join(base_dir, 'data')\n",
        "customers = pd.read_csv(os.path.join(data_dir, 'customers.csv'))\n",
        "orders = pd.read_csv(os.path.join(data_dir, 'orders.csv'))\n",
        "behavior_logs = pd.read_csv(os.path.join(data_dir, 'behavior_logs.csv'))\n",
        "cyber_attacks = pd.read_csv(os.path.join(data_dir, 'cyber_attack_logs.csv'))\n",
        "\n",
        "# 1. Customer Segmentation using KMeans Clustering\n",
        "def customer_segmentation():\n",
        "    customer_summary = orders.groupby('customer_id').agg({\n",
        "        'amount': ['sum', 'mean', 'count']\n",
        "    }).reset_index()\n",
        "    customer_summary.columns = ['customer_id', 'total_spent', 'avg_spent', 'num_orders']\n",
        "\n",
        "    kmeans = KMeans(n_clusters=3, random_state=42)\n",
        "    customer_summary['segment'] = kmeans.fit_predict(customer_summary[['total_spent', 'avg_spent', 'num_orders']])\n",
        "\n",
        "    plt.figure(figsize=(8, 6))\n",
        "    sns.scatterplot(x='total_spent', y='avg_spent', hue='segment', data=customer_summary, palette='viridis')\n",
        "    plt.title('Customer Segmentation')\n",
        "    plt.savefig(os.path.join(base_dir, 'reports', 'customer_segmentation.png'))\n",
        "    plt.close()\n",
        "\n",
        "# 2. Churn Prediction using RandomForest\n",
        "def churn_prediction():\n",
        "    # Simulate churn feature\n",
        "    customers['churn'] = np.random.choice([0, 1], size=len(customers), p=[0.8, 0.2])\n",
        "\n",
        "    # Feature preparation\n",
        "    customer_orders = orders.groupby('customer_id')['amount'].sum().reset_index()\n",
        "    customer_orders.columns = ['customer_id', 'total_spent']\n",
        "    df = pd.merge(customers, customer_orders, on='customer_id', how='left').fillna(0)\n",
        "\n",
        "    X = df[['total_spent']]\n",
        "    y = df['churn']\n",
        "\n",
        "    X_train, X_test, y_train, y_test = train_test_split(X, y, test_size=0.3, random_state=42)\n",
        "    model = RandomForestClassifier()\n",
        "    model.fit(X_train, y_train)\n",
        "    y_pred = model.predict(X_test)\n",
        "\n",
        "    report = classification_report(y_test, y_pred)\n",
        "    with open(os.path.join(base_dir, 'reports', 'churn_report.txt'), 'w') as f:\n",
        "        f.write(report)\n",
        "\n",
        "# 3. Anomaly Detection in Behavior Logs\n",
        "def detect_anomalies():\n",
        "    model = IsolationForest(contamination=0.05)\n",
        "    behavior_logs['is_anomaly'] = model.fit_predict(behavior_logs[['log_id']])\n",
        "\n",
        "    anomalies = behavior_logs[behavior_logs['is_anomaly'] == -1]\n",
        "    anomalies.to_csv(os.path.join(base_dir, 'reports', 'anomalies.csv'), index=False)\n",
        "\n",
        "# 4. Cyber Attack Analysis\n",
        "def cyber_attack_analysis():\n",
        "    attack_summary = cyber_attacks.groupby(['attack_type', 'status']).size().reset_index(name='count')\n",
        "    attack_summary.to_csv(os.path.join(base_dir, 'reports', 'cyber_attack_summary.csv'), index=False)\n",
        "\n",
        "# Execute functions\n",
        "customer_segmentation()\n",
        "churn_prediction()\n",
        "detect_anomalies()\n",
        "cyber_attack_analysis()\n",
        "\n",
        "print(\"Advanced analytics completed. Reports saved in the 'reports' folder.\")"
      ]
    },
    {
      "cell_type": "code",
      "source": [
        "\n",
        "import numpy as np\n",
        "\n",
        "# Ensure required columns exist\n",
        "if 'total_spent' not in customers.columns:\n",
        "    customers['total_spent'] = np.random.randint(10, 1000, size=len(customers))  # Random spending amounts\n",
        "\n",
        "if 'order_count' not in customers.columns:\n",
        "    customers['order_count'] = np.random.randint(1, 50, size=len(customers))  # Random order counts\n",
        "\n",
        "# Extract and scale the data\n",
        "spending_data = customers[['total_spent', 'order_count']]\n",
        "scaler = StandardScaler()\n",
        "scaled_data = scaler.fit_transform(spending_data)"
      ],
      "metadata": {
        "id": "HjD6lsLIcgEl"
      },
      "execution_count": null,
      "outputs": []
    },
    {
      "cell_type": "code",
      "source": [
        "\n",
        "if 'total_spent' not in customers.columns and 'average_order_value' in customers.columns:\n",
        "    customers['total_spent'] = customers['average_order_value'] * customers['order_count']\n",
        "\n",
        "if 'order_count' not in customers.columns and 'total_spent' in customers.columns and 'average_order_value' in customers.columns:\n",
        "    customers['order_count'] = (customers['total_spent'] / customers['average_order_value']).fillna(1).astype(int)"
      ],
      "metadata": {
        "id": "wziUHue3cuK_"
      },
      "execution_count": null,
      "outputs": []
    },
    {
      "cell_type": "code",
      "source": [
        "print(type(customers))"
      ],
      "metadata": {
        "colab": {
          "base_uri": "https://localhost:8080/"
        },
        "id": "tWjCrYaqc_br",
        "outputId": "56242fc6-2d7a-4783-ecf6-c83500a423a5"
      },
      "execution_count": null,
      "outputs": [
        {
          "output_type": "stream",
          "name": "stdout",
          "text": [
            "<class 'pandas.core.frame.DataFrame'>\n"
          ]
        }
      ]
    },
    {
      "cell_type": "code",
      "source": [
        "spending_data = customers[['total_spent', 'order_count']].copy() if {'total_spent', 'order_count'}.issubset(customers.columns) else None"
      ],
      "metadata": {
        "id": "Cj6dQVHwdNIl"
      },
      "execution_count": null,
      "outputs": []
    },
    {
      "cell_type": "code",
      "source": [
        "import plotly.express as px  # Import Plotly Express"
      ],
      "metadata": {
        "id": "WtfI0_JmdkCn"
      },
      "execution_count": null,
      "outputs": []
    },
    {
      "cell_type": "code",
      "source": [
        "\n",
        "import plotly.express as px  # Ensure Plotly is imported\n",
        "\n",
        "# Visualize clusters\n",
        "fig = px.scatter(customers, x='total_spent', y='order_count',\n",
        "                 color=customers['segment'].astype(str),\n",
        "                 title='Customer Segmentation')\n",
        "fig.show()"
      ],
      "metadata": {
        "colab": {
          "base_uri": "https://localhost:8080/",
          "height": 542
        },
        "id": "3Xbp5y6rdvZI",
        "outputId": "93bc09eb-a833-4f36-a7de-ebee3e920bd3"
      },
      "execution_count": null,
      "outputs": [
        {
          "output_type": "display_data",
          "data": {
            "text/html": [
              "<html>\n",
              "<head><meta charset=\"utf-8\" /></head>\n",
              "<body>\n",
              "    <div>            <script src=\"https://cdnjs.cloudflare.com/ajax/libs/mathjax/2.7.5/MathJax.js?config=TeX-AMS-MML_SVG\"></script><script type=\"text/javascript\">if (window.MathJax && window.MathJax.Hub && window.MathJax.Hub.Config) {window.MathJax.Hub.Config({SVG: {font: \"STIX-Web\"}});}</script>                <script type=\"text/javascript\">window.PlotlyConfig = {MathJaxConfig: 'local'};</script>\n",
              "        <script charset=\"utf-8\" src=\"https://cdn.plot.ly/plotly-2.35.2.min.js\"></script>                <div id=\"a740abde-f21f-4dbe-af38-6b1dbe87208e\" class=\"plotly-graph-div\" style=\"height:525px; width:100%;\"></div>            <script type=\"text/javascript\">                                    window.PLOTLYENV=window.PLOTLYENV || {};                                    if (document.getElementById(\"a740abde-f21f-4dbe-af38-6b1dbe87208e\")) {                    Plotly.newPlot(                        \"a740abde-f21f-4dbe-af38-6b1dbe87208e\",                        [{\"hovertemplate\":\"color=1\\u003cbr\\u003etotal_spent=%{x}\\u003cbr\\u003eorder_count=%{y}\\u003cextra\\u003e\\u003c\\u002fextra\\u003e\",\"legendgroup\":\"1\",\"marker\":{\"color\":\"#636efa\",\"symbol\":\"circle\"},\"mode\":\"markers\",\"name\":\"1\",\"orientation\":\"v\",\"showlegend\":true,\"x\":[261,843,176,452,74,926,541,898,743,804,428,779,607,379,53,363,148,475,857,711,433,660,810,441,630,516,388,120,792,862,333,587,488,427,551,667,326,245,75,895,211,915,617],\"xaxis\":\"x\",\"y\":[42,37,38,33,49,41,36,38,47,37,27,49,41,47,41,29,49,30,43,44,41,44,46,31,48,47,37,38,33,41,49,30,39,29,44,42,36,46,47,40,43,40,45],\"yaxis\":\"y\",\"type\":\"scatter\"},{\"hovertemplate\":\"color=0\\u003cbr\\u003etotal_spent=%{x}\\u003cbr\\u003eorder_count=%{y}\\u003cextra\\u003e\\u003c\\u002fextra\\u003e\",\"legendgroup\":\"0\",\"marker\":{\"color\":\"#EF553B\",\"symbol\":\"circle\"},\"mode\":\"markers\",\"name\":\"0\",\"orientation\":\"v\",\"showlegend\":true,\"x\":[67,184,67,207,163,248,224,148,332,401,63,10,369,87,241,144,129,88,303,220,203,288,348,481,191,62,414,154,358,190,353,375],\"xaxis\":\"x\",\"y\":[20,15,31,30,24,15,2,15,8,11,1,29,11,22,14,3,6,12,18,13,25,12,20,16,31,17,25,13,19,12,5,15],\"yaxis\":\"y\",\"type\":\"scatter\"},{\"hovertemplate\":\"color=2\\u003cbr\\u003etotal_spent=%{x}\\u003cbr\\u003eorder_count=%{y}\\u003cextra\\u003e\\u003c\\u002fextra\\u003e\",\"legendgroup\":\"2\",\"marker\":{\"color\":\"#00cc96\",\"symbol\":\"circle\"},\"mode\":\"markers\",\"name\":\"2\",\"orientation\":\"v\",\"showlegend\":true,\"x\":[980,615,845,793,888,730,780,781,909,524,726,965,792,532,852,642,656,664,907,804,707,568,767,727,865],\"xaxis\":\"x\",\"y\":[25,7,28,3,9,19,27,3,13,13,25,31,5,4,15,22,10,24,15,13,14,16,24,12,27],\"yaxis\":\"y\",\"type\":\"scatter\"}],                        {\"template\":{\"data\":{\"histogram2dcontour\":[{\"type\":\"histogram2dcontour\",\"colorbar\":{\"outlinewidth\":0,\"ticks\":\"\"},\"colorscale\":[[0.0,\"#0d0887\"],[0.1111111111111111,\"#46039f\"],[0.2222222222222222,\"#7201a8\"],[0.3333333333333333,\"#9c179e\"],[0.4444444444444444,\"#bd3786\"],[0.5555555555555556,\"#d8576b\"],[0.6666666666666666,\"#ed7953\"],[0.7777777777777778,\"#fb9f3a\"],[0.8888888888888888,\"#fdca26\"],[1.0,\"#f0f921\"]]}],\"choropleth\":[{\"type\":\"choropleth\",\"colorbar\":{\"outlinewidth\":0,\"ticks\":\"\"}}],\"histogram2d\":[{\"type\":\"histogram2d\",\"colorbar\":{\"outlinewidth\":0,\"ticks\":\"\"},\"colorscale\":[[0.0,\"#0d0887\"],[0.1111111111111111,\"#46039f\"],[0.2222222222222222,\"#7201a8\"],[0.3333333333333333,\"#9c179e\"],[0.4444444444444444,\"#bd3786\"],[0.5555555555555556,\"#d8576b\"],[0.6666666666666666,\"#ed7953\"],[0.7777777777777778,\"#fb9f3a\"],[0.8888888888888888,\"#fdca26\"],[1.0,\"#f0f921\"]]}],\"heatmap\":[{\"type\":\"heatmap\",\"colorbar\":{\"outlinewidth\":0,\"ticks\":\"\"},\"colorscale\":[[0.0,\"#0d0887\"],[0.1111111111111111,\"#46039f\"],[0.2222222222222222,\"#7201a8\"],[0.3333333333333333,\"#9c179e\"],[0.4444444444444444,\"#bd3786\"],[0.5555555555555556,\"#d8576b\"],[0.6666666666666666,\"#ed7953\"],[0.7777777777777778,\"#fb9f3a\"],[0.8888888888888888,\"#fdca26\"],[1.0,\"#f0f921\"]]}],\"heatmapgl\":[{\"type\":\"heatmapgl\",\"colorbar\":{\"outlinewidth\":0,\"ticks\":\"\"},\"colorscale\":[[0.0,\"#0d0887\"],[0.1111111111111111,\"#46039f\"],[0.2222222222222222,\"#7201a8\"],[0.3333333333333333,\"#9c179e\"],[0.4444444444444444,\"#bd3786\"],[0.5555555555555556,\"#d8576b\"],[0.6666666666666666,\"#ed7953\"],[0.7777777777777778,\"#fb9f3a\"],[0.8888888888888888,\"#fdca26\"],[1.0,\"#f0f921\"]]}],\"contourcarpet\":[{\"type\":\"contourcarpet\",\"colorbar\":{\"outlinewidth\":0,\"ticks\":\"\"}}],\"contour\":[{\"type\":\"contour\",\"colorbar\":{\"outlinewidth\":0,\"ticks\":\"\"},\"colorscale\":[[0.0,\"#0d0887\"],[0.1111111111111111,\"#46039f\"],[0.2222222222222222,\"#7201a8\"],[0.3333333333333333,\"#9c179e\"],[0.4444444444444444,\"#bd3786\"],[0.5555555555555556,\"#d8576b\"],[0.6666666666666666,\"#ed7953\"],[0.7777777777777778,\"#fb9f3a\"],[0.8888888888888888,\"#fdca26\"],[1.0,\"#f0f921\"]]}],\"surface\":[{\"type\":\"surface\",\"colorbar\":{\"outlinewidth\":0,\"ticks\":\"\"},\"colorscale\":[[0.0,\"#0d0887\"],[0.1111111111111111,\"#46039f\"],[0.2222222222222222,\"#7201a8\"],[0.3333333333333333,\"#9c179e\"],[0.4444444444444444,\"#bd3786\"],[0.5555555555555556,\"#d8576b\"],[0.6666666666666666,\"#ed7953\"],[0.7777777777777778,\"#fb9f3a\"],[0.8888888888888888,\"#fdca26\"],[1.0,\"#f0f921\"]]}],\"mesh3d\":[{\"type\":\"mesh3d\",\"colorbar\":{\"outlinewidth\":0,\"ticks\":\"\"}}],\"scatter\":[{\"fillpattern\":{\"fillmode\":\"overlay\",\"size\":10,\"solidity\":0.2},\"type\":\"scatter\"}],\"parcoords\":[{\"type\":\"parcoords\",\"line\":{\"colorbar\":{\"outlinewidth\":0,\"ticks\":\"\"}}}],\"scatterpolargl\":[{\"type\":\"scatterpolargl\",\"marker\":{\"colorbar\":{\"outlinewidth\":0,\"ticks\":\"\"}}}],\"bar\":[{\"error_x\":{\"color\":\"#2a3f5f\"},\"error_y\":{\"color\":\"#2a3f5f\"},\"marker\":{\"line\":{\"color\":\"#E5ECF6\",\"width\":0.5},\"pattern\":{\"fillmode\":\"overlay\",\"size\":10,\"solidity\":0.2}},\"type\":\"bar\"}],\"scattergeo\":[{\"type\":\"scattergeo\",\"marker\":{\"colorbar\":{\"outlinewidth\":0,\"ticks\":\"\"}}}],\"scatterpolar\":[{\"type\":\"scatterpolar\",\"marker\":{\"colorbar\":{\"outlinewidth\":0,\"ticks\":\"\"}}}],\"histogram\":[{\"marker\":{\"pattern\":{\"fillmode\":\"overlay\",\"size\":10,\"solidity\":0.2}},\"type\":\"histogram\"}],\"scattergl\":[{\"type\":\"scattergl\",\"marker\":{\"colorbar\":{\"outlinewidth\":0,\"ticks\":\"\"}}}],\"scatter3d\":[{\"type\":\"scatter3d\",\"line\":{\"colorbar\":{\"outlinewidth\":0,\"ticks\":\"\"}},\"marker\":{\"colorbar\":{\"outlinewidth\":0,\"ticks\":\"\"}}}],\"scattermapbox\":[{\"type\":\"scattermapbox\",\"marker\":{\"colorbar\":{\"outlinewidth\":0,\"ticks\":\"\"}}}],\"scatterternary\":[{\"type\":\"scatterternary\",\"marker\":{\"colorbar\":{\"outlinewidth\":0,\"ticks\":\"\"}}}],\"scattercarpet\":[{\"type\":\"scattercarpet\",\"marker\":{\"colorbar\":{\"outlinewidth\":0,\"ticks\":\"\"}}}],\"carpet\":[{\"aaxis\":{\"endlinecolor\":\"#2a3f5f\",\"gridcolor\":\"white\",\"linecolor\":\"white\",\"minorgridcolor\":\"white\",\"startlinecolor\":\"#2a3f5f\"},\"baxis\":{\"endlinecolor\":\"#2a3f5f\",\"gridcolor\":\"white\",\"linecolor\":\"white\",\"minorgridcolor\":\"white\",\"startlinecolor\":\"#2a3f5f\"},\"type\":\"carpet\"}],\"table\":[{\"cells\":{\"fill\":{\"color\":\"#EBF0F8\"},\"line\":{\"color\":\"white\"}},\"header\":{\"fill\":{\"color\":\"#C8D4E3\"},\"line\":{\"color\":\"white\"}},\"type\":\"table\"}],\"barpolar\":[{\"marker\":{\"line\":{\"color\":\"#E5ECF6\",\"width\":0.5},\"pattern\":{\"fillmode\":\"overlay\",\"size\":10,\"solidity\":0.2}},\"type\":\"barpolar\"}],\"pie\":[{\"automargin\":true,\"type\":\"pie\"}]},\"layout\":{\"autotypenumbers\":\"strict\",\"colorway\":[\"#636efa\",\"#EF553B\",\"#00cc96\",\"#ab63fa\",\"#FFA15A\",\"#19d3f3\",\"#FF6692\",\"#B6E880\",\"#FF97FF\",\"#FECB52\"],\"font\":{\"color\":\"#2a3f5f\"},\"hovermode\":\"closest\",\"hoverlabel\":{\"align\":\"left\"},\"paper_bgcolor\":\"white\",\"plot_bgcolor\":\"#E5ECF6\",\"polar\":{\"bgcolor\":\"#E5ECF6\",\"angularaxis\":{\"gridcolor\":\"white\",\"linecolor\":\"white\",\"ticks\":\"\"},\"radialaxis\":{\"gridcolor\":\"white\",\"linecolor\":\"white\",\"ticks\":\"\"}},\"ternary\":{\"bgcolor\":\"#E5ECF6\",\"aaxis\":{\"gridcolor\":\"white\",\"linecolor\":\"white\",\"ticks\":\"\"},\"baxis\":{\"gridcolor\":\"white\",\"linecolor\":\"white\",\"ticks\":\"\"},\"caxis\":{\"gridcolor\":\"white\",\"linecolor\":\"white\",\"ticks\":\"\"}},\"coloraxis\":{\"colorbar\":{\"outlinewidth\":0,\"ticks\":\"\"}},\"colorscale\":{\"sequential\":[[0.0,\"#0d0887\"],[0.1111111111111111,\"#46039f\"],[0.2222222222222222,\"#7201a8\"],[0.3333333333333333,\"#9c179e\"],[0.4444444444444444,\"#bd3786\"],[0.5555555555555556,\"#d8576b\"],[0.6666666666666666,\"#ed7953\"],[0.7777777777777778,\"#fb9f3a\"],[0.8888888888888888,\"#fdca26\"],[1.0,\"#f0f921\"]],\"sequentialminus\":[[0.0,\"#0d0887\"],[0.1111111111111111,\"#46039f\"],[0.2222222222222222,\"#7201a8\"],[0.3333333333333333,\"#9c179e\"],[0.4444444444444444,\"#bd3786\"],[0.5555555555555556,\"#d8576b\"],[0.6666666666666666,\"#ed7953\"],[0.7777777777777778,\"#fb9f3a\"],[0.8888888888888888,\"#fdca26\"],[1.0,\"#f0f921\"]],\"diverging\":[[0,\"#8e0152\"],[0.1,\"#c51b7d\"],[0.2,\"#de77ae\"],[0.3,\"#f1b6da\"],[0.4,\"#fde0ef\"],[0.5,\"#f7f7f7\"],[0.6,\"#e6f5d0\"],[0.7,\"#b8e186\"],[0.8,\"#7fbc41\"],[0.9,\"#4d9221\"],[1,\"#276419\"]]},\"xaxis\":{\"gridcolor\":\"white\",\"linecolor\":\"white\",\"ticks\":\"\",\"title\":{\"standoff\":15},\"zerolinecolor\":\"white\",\"automargin\":true,\"zerolinewidth\":2},\"yaxis\":{\"gridcolor\":\"white\",\"linecolor\":\"white\",\"ticks\":\"\",\"title\":{\"standoff\":15},\"zerolinecolor\":\"white\",\"automargin\":true,\"zerolinewidth\":2},\"scene\":{\"xaxis\":{\"backgroundcolor\":\"#E5ECF6\",\"gridcolor\":\"white\",\"linecolor\":\"white\",\"showbackground\":true,\"ticks\":\"\",\"zerolinecolor\":\"white\",\"gridwidth\":2},\"yaxis\":{\"backgroundcolor\":\"#E5ECF6\",\"gridcolor\":\"white\",\"linecolor\":\"white\",\"showbackground\":true,\"ticks\":\"\",\"zerolinecolor\":\"white\",\"gridwidth\":2},\"zaxis\":{\"backgroundcolor\":\"#E5ECF6\",\"gridcolor\":\"white\",\"linecolor\":\"white\",\"showbackground\":true,\"ticks\":\"\",\"zerolinecolor\":\"white\",\"gridwidth\":2}},\"shapedefaults\":{\"line\":{\"color\":\"#2a3f5f\"}},\"annotationdefaults\":{\"arrowcolor\":\"#2a3f5f\",\"arrowhead\":0,\"arrowwidth\":1},\"geo\":{\"bgcolor\":\"white\",\"landcolor\":\"#E5ECF6\",\"subunitcolor\":\"white\",\"showland\":true,\"showlakes\":true,\"lakecolor\":\"white\"},\"title\":{\"x\":0.05},\"mapbox\":{\"style\":\"light\"}}},\"xaxis\":{\"anchor\":\"y\",\"domain\":[0.0,1.0],\"title\":{\"text\":\"total_spent\"}},\"yaxis\":{\"anchor\":\"x\",\"domain\":[0.0,1.0],\"title\":{\"text\":\"order_count\"}},\"legend\":{\"title\":{\"text\":\"color\"},\"tracegroupgap\":0},\"title\":{\"text\":\"Customer Segmentation\"}},                        {\"responsive\": true}                    ).then(function(){\n",
              "                            \n",
              "var gd = document.getElementById('a740abde-f21f-4dbe-af38-6b1dbe87208e');\n",
              "var x = new MutationObserver(function (mutations, observer) {{\n",
              "        var display = window.getComputedStyle(gd).display;\n",
              "        if (!display || display === 'none') {{\n",
              "            console.log([gd, 'removed!']);\n",
              "            Plotly.purge(gd);\n",
              "            observer.disconnect();\n",
              "        }}\n",
              "}});\n",
              "\n",
              "// Listen for the removal of the full notebook cells\n",
              "var notebookContainer = gd.closest('#notebook-container');\n",
              "if (notebookContainer) {{\n",
              "    x.observe(notebookContainer, {childList: true});\n",
              "}}\n",
              "\n",
              "// Listen for the clearing of the current output cell\n",
              "var outputEl = gd.closest('.output');\n",
              "if (outputEl) {{\n",
              "    x.observe(outputEl, {childList: true});\n",
              "}}\n",
              "\n",
              "                        })                };                            </script>        </div>\n",
              "</body>\n",
              "</html>"
            ]
          },
          "metadata": {}
        }
      ]
    },
    {
      "cell_type": "code",
      "source": [],
      "metadata": {
        "id": "cvg8q6gpdYJA"
      },
      "execution_count": null,
      "outputs": []
    },
    {
      "cell_type": "markdown",
      "metadata": {
        "id": "7c8bc42f"
      },
      "source": [
        "## Customer Segmentation with Clustering  \n",
        "We use K-Means clustering to segment customers based on spending behavior."
      ]
    },
    {
      "cell_type": "code",
      "source": [],
      "metadata": {
        "id": "7f8a2pSwdDGn"
      },
      "execution_count": null,
      "outputs": []
    },
    {
      "cell_type": "code",
      "execution_count": null,
      "metadata": {
        "colab": {
          "base_uri": "https://localhost:8080/",
          "height": 542
        },
        "id": "676a95b2",
        "outputId": "3c5ff647-f504-4594-8596-ea5e2607918f"
      },
      "outputs": [
        {
          "output_type": "display_data",
          "data": {
            "text/html": [
              "<html>\n",
              "<head><meta charset=\"utf-8\" /></head>\n",
              "<body>\n",
              "    <div>            <script src=\"https://cdnjs.cloudflare.com/ajax/libs/mathjax/2.7.5/MathJax.js?config=TeX-AMS-MML_SVG\"></script><script type=\"text/javascript\">if (window.MathJax && window.MathJax.Hub && window.MathJax.Hub.Config) {window.MathJax.Hub.Config({SVG: {font: \"STIX-Web\"}});}</script>                <script type=\"text/javascript\">window.PlotlyConfig = {MathJaxConfig: 'local'};</script>\n",
              "        <script charset=\"utf-8\" src=\"https://cdn.plot.ly/plotly-2.35.2.min.js\"></script>                <div id=\"aadbc41b-1856-45e1-a54b-18efc22a1f3e\" class=\"plotly-graph-div\" style=\"height:525px; width:100%;\"></div>            <script type=\"text/javascript\">                                    window.PLOTLYENV=window.PLOTLYENV || {};                                    if (document.getElementById(\"aadbc41b-1856-45e1-a54b-18efc22a1f3e\")) {                    Plotly.newPlot(                        \"aadbc41b-1856-45e1-a54b-18efc22a1f3e\",                        [{\"hovertemplate\":\"color=1\\u003cbr\\u003etotal_spent=%{x}\\u003cbr\\u003eorder_count=%{y}\\u003cextra\\u003e\\u003c\\u002fextra\\u003e\",\"legendgroup\":\"1\",\"marker\":{\"color\":\"#636efa\",\"symbol\":\"circle\"},\"mode\":\"markers\",\"name\":\"1\",\"orientation\":\"v\",\"showlegend\":true,\"x\":[261,843,176,452,74,926,541,898,743,804,428,779,607,379,53,363,148,475,857,711,433,660,810,441,630,516,388,120,792,862,333,587,488,427,551,667,326,245,75,895,211,915,617],\"xaxis\":\"x\",\"y\":[42,37,38,33,49,41,36,38,47,37,27,49,41,47,41,29,49,30,43,44,41,44,46,31,48,47,37,38,33,41,49,30,39,29,44,42,36,46,47,40,43,40,45],\"yaxis\":\"y\",\"type\":\"scatter\"},{\"hovertemplate\":\"color=0\\u003cbr\\u003etotal_spent=%{x}\\u003cbr\\u003eorder_count=%{y}\\u003cextra\\u003e\\u003c\\u002fextra\\u003e\",\"legendgroup\":\"0\",\"marker\":{\"color\":\"#EF553B\",\"symbol\":\"circle\"},\"mode\":\"markers\",\"name\":\"0\",\"orientation\":\"v\",\"showlegend\":true,\"x\":[67,184,67,207,163,248,224,148,332,401,63,10,369,87,241,144,129,88,303,220,203,288,348,481,191,62,414,154,358,190,353,375],\"xaxis\":\"x\",\"y\":[20,15,31,30,24,15,2,15,8,11,1,29,11,22,14,3,6,12,18,13,25,12,20,16,31,17,25,13,19,12,5,15],\"yaxis\":\"y\",\"type\":\"scatter\"},{\"hovertemplate\":\"color=2\\u003cbr\\u003etotal_spent=%{x}\\u003cbr\\u003eorder_count=%{y}\\u003cextra\\u003e\\u003c\\u002fextra\\u003e\",\"legendgroup\":\"2\",\"marker\":{\"color\":\"#00cc96\",\"symbol\":\"circle\"},\"mode\":\"markers\",\"name\":\"2\",\"orientation\":\"v\",\"showlegend\":true,\"x\":[980,615,845,793,888,730,780,781,909,524,726,965,792,532,852,642,656,664,907,804,707,568,767,727,865],\"xaxis\":\"x\",\"y\":[25,7,28,3,9,19,27,3,13,13,25,31,5,4,15,22,10,24,15,13,14,16,24,12,27],\"yaxis\":\"y\",\"type\":\"scatter\"}],                        {\"template\":{\"data\":{\"histogram2dcontour\":[{\"type\":\"histogram2dcontour\",\"colorbar\":{\"outlinewidth\":0,\"ticks\":\"\"},\"colorscale\":[[0.0,\"#0d0887\"],[0.1111111111111111,\"#46039f\"],[0.2222222222222222,\"#7201a8\"],[0.3333333333333333,\"#9c179e\"],[0.4444444444444444,\"#bd3786\"],[0.5555555555555556,\"#d8576b\"],[0.6666666666666666,\"#ed7953\"],[0.7777777777777778,\"#fb9f3a\"],[0.8888888888888888,\"#fdca26\"],[1.0,\"#f0f921\"]]}],\"choropleth\":[{\"type\":\"choropleth\",\"colorbar\":{\"outlinewidth\":0,\"ticks\":\"\"}}],\"histogram2d\":[{\"type\":\"histogram2d\",\"colorbar\":{\"outlinewidth\":0,\"ticks\":\"\"},\"colorscale\":[[0.0,\"#0d0887\"],[0.1111111111111111,\"#46039f\"],[0.2222222222222222,\"#7201a8\"],[0.3333333333333333,\"#9c179e\"],[0.4444444444444444,\"#bd3786\"],[0.5555555555555556,\"#d8576b\"],[0.6666666666666666,\"#ed7953\"],[0.7777777777777778,\"#fb9f3a\"],[0.8888888888888888,\"#fdca26\"],[1.0,\"#f0f921\"]]}],\"heatmap\":[{\"type\":\"heatmap\",\"colorbar\":{\"outlinewidth\":0,\"ticks\":\"\"},\"colorscale\":[[0.0,\"#0d0887\"],[0.1111111111111111,\"#46039f\"],[0.2222222222222222,\"#7201a8\"],[0.3333333333333333,\"#9c179e\"],[0.4444444444444444,\"#bd3786\"],[0.5555555555555556,\"#d8576b\"],[0.6666666666666666,\"#ed7953\"],[0.7777777777777778,\"#fb9f3a\"],[0.8888888888888888,\"#fdca26\"],[1.0,\"#f0f921\"]]}],\"heatmapgl\":[{\"type\":\"heatmapgl\",\"colorbar\":{\"outlinewidth\":0,\"ticks\":\"\"},\"colorscale\":[[0.0,\"#0d0887\"],[0.1111111111111111,\"#46039f\"],[0.2222222222222222,\"#7201a8\"],[0.3333333333333333,\"#9c179e\"],[0.4444444444444444,\"#bd3786\"],[0.5555555555555556,\"#d8576b\"],[0.6666666666666666,\"#ed7953\"],[0.7777777777777778,\"#fb9f3a\"],[0.8888888888888888,\"#fdca26\"],[1.0,\"#f0f921\"]]}],\"contourcarpet\":[{\"type\":\"contourcarpet\",\"colorbar\":{\"outlinewidth\":0,\"ticks\":\"\"}}],\"contour\":[{\"type\":\"contour\",\"colorbar\":{\"outlinewidth\":0,\"ticks\":\"\"},\"colorscale\":[[0.0,\"#0d0887\"],[0.1111111111111111,\"#46039f\"],[0.2222222222222222,\"#7201a8\"],[0.3333333333333333,\"#9c179e\"],[0.4444444444444444,\"#bd3786\"],[0.5555555555555556,\"#d8576b\"],[0.6666666666666666,\"#ed7953\"],[0.7777777777777778,\"#fb9f3a\"],[0.8888888888888888,\"#fdca26\"],[1.0,\"#f0f921\"]]}],\"surface\":[{\"type\":\"surface\",\"colorbar\":{\"outlinewidth\":0,\"ticks\":\"\"},\"colorscale\":[[0.0,\"#0d0887\"],[0.1111111111111111,\"#46039f\"],[0.2222222222222222,\"#7201a8\"],[0.3333333333333333,\"#9c179e\"],[0.4444444444444444,\"#bd3786\"],[0.5555555555555556,\"#d8576b\"],[0.6666666666666666,\"#ed7953\"],[0.7777777777777778,\"#fb9f3a\"],[0.8888888888888888,\"#fdca26\"],[1.0,\"#f0f921\"]]}],\"mesh3d\":[{\"type\":\"mesh3d\",\"colorbar\":{\"outlinewidth\":0,\"ticks\":\"\"}}],\"scatter\":[{\"fillpattern\":{\"fillmode\":\"overlay\",\"size\":10,\"solidity\":0.2},\"type\":\"scatter\"}],\"parcoords\":[{\"type\":\"parcoords\",\"line\":{\"colorbar\":{\"outlinewidth\":0,\"ticks\":\"\"}}}],\"scatterpolargl\":[{\"type\":\"scatterpolargl\",\"marker\":{\"colorbar\":{\"outlinewidth\":0,\"ticks\":\"\"}}}],\"bar\":[{\"error_x\":{\"color\":\"#2a3f5f\"},\"error_y\":{\"color\":\"#2a3f5f\"},\"marker\":{\"line\":{\"color\":\"#E5ECF6\",\"width\":0.5},\"pattern\":{\"fillmode\":\"overlay\",\"size\":10,\"solidity\":0.2}},\"type\":\"bar\"}],\"scattergeo\":[{\"type\":\"scattergeo\",\"marker\":{\"colorbar\":{\"outlinewidth\":0,\"ticks\":\"\"}}}],\"scatterpolar\":[{\"type\":\"scatterpolar\",\"marker\":{\"colorbar\":{\"outlinewidth\":0,\"ticks\":\"\"}}}],\"histogram\":[{\"marker\":{\"pattern\":{\"fillmode\":\"overlay\",\"size\":10,\"solidity\":0.2}},\"type\":\"histogram\"}],\"scattergl\":[{\"type\":\"scattergl\",\"marker\":{\"colorbar\":{\"outlinewidth\":0,\"ticks\":\"\"}}}],\"scatter3d\":[{\"type\":\"scatter3d\",\"line\":{\"colorbar\":{\"outlinewidth\":0,\"ticks\":\"\"}},\"marker\":{\"colorbar\":{\"outlinewidth\":0,\"ticks\":\"\"}}}],\"scattermapbox\":[{\"type\":\"scattermapbox\",\"marker\":{\"colorbar\":{\"outlinewidth\":0,\"ticks\":\"\"}}}],\"scatterternary\":[{\"type\":\"scatterternary\",\"marker\":{\"colorbar\":{\"outlinewidth\":0,\"ticks\":\"\"}}}],\"scattercarpet\":[{\"type\":\"scattercarpet\",\"marker\":{\"colorbar\":{\"outlinewidth\":0,\"ticks\":\"\"}}}],\"carpet\":[{\"aaxis\":{\"endlinecolor\":\"#2a3f5f\",\"gridcolor\":\"white\",\"linecolor\":\"white\",\"minorgridcolor\":\"white\",\"startlinecolor\":\"#2a3f5f\"},\"baxis\":{\"endlinecolor\":\"#2a3f5f\",\"gridcolor\":\"white\",\"linecolor\":\"white\",\"minorgridcolor\":\"white\",\"startlinecolor\":\"#2a3f5f\"},\"type\":\"carpet\"}],\"table\":[{\"cells\":{\"fill\":{\"color\":\"#EBF0F8\"},\"line\":{\"color\":\"white\"}},\"header\":{\"fill\":{\"color\":\"#C8D4E3\"},\"line\":{\"color\":\"white\"}},\"type\":\"table\"}],\"barpolar\":[{\"marker\":{\"line\":{\"color\":\"#E5ECF6\",\"width\":0.5},\"pattern\":{\"fillmode\":\"overlay\",\"size\":10,\"solidity\":0.2}},\"type\":\"barpolar\"}],\"pie\":[{\"automargin\":true,\"type\":\"pie\"}]},\"layout\":{\"autotypenumbers\":\"strict\",\"colorway\":[\"#636efa\",\"#EF553B\",\"#00cc96\",\"#ab63fa\",\"#FFA15A\",\"#19d3f3\",\"#FF6692\",\"#B6E880\",\"#FF97FF\",\"#FECB52\"],\"font\":{\"color\":\"#2a3f5f\"},\"hovermode\":\"closest\",\"hoverlabel\":{\"align\":\"left\"},\"paper_bgcolor\":\"white\",\"plot_bgcolor\":\"#E5ECF6\",\"polar\":{\"bgcolor\":\"#E5ECF6\",\"angularaxis\":{\"gridcolor\":\"white\",\"linecolor\":\"white\",\"ticks\":\"\"},\"radialaxis\":{\"gridcolor\":\"white\",\"linecolor\":\"white\",\"ticks\":\"\"}},\"ternary\":{\"bgcolor\":\"#E5ECF6\",\"aaxis\":{\"gridcolor\":\"white\",\"linecolor\":\"white\",\"ticks\":\"\"},\"baxis\":{\"gridcolor\":\"white\",\"linecolor\":\"white\",\"ticks\":\"\"},\"caxis\":{\"gridcolor\":\"white\",\"linecolor\":\"white\",\"ticks\":\"\"}},\"coloraxis\":{\"colorbar\":{\"outlinewidth\":0,\"ticks\":\"\"}},\"colorscale\":{\"sequential\":[[0.0,\"#0d0887\"],[0.1111111111111111,\"#46039f\"],[0.2222222222222222,\"#7201a8\"],[0.3333333333333333,\"#9c179e\"],[0.4444444444444444,\"#bd3786\"],[0.5555555555555556,\"#d8576b\"],[0.6666666666666666,\"#ed7953\"],[0.7777777777777778,\"#fb9f3a\"],[0.8888888888888888,\"#fdca26\"],[1.0,\"#f0f921\"]],\"sequentialminus\":[[0.0,\"#0d0887\"],[0.1111111111111111,\"#46039f\"],[0.2222222222222222,\"#7201a8\"],[0.3333333333333333,\"#9c179e\"],[0.4444444444444444,\"#bd3786\"],[0.5555555555555556,\"#d8576b\"],[0.6666666666666666,\"#ed7953\"],[0.7777777777777778,\"#fb9f3a\"],[0.8888888888888888,\"#fdca26\"],[1.0,\"#f0f921\"]],\"diverging\":[[0,\"#8e0152\"],[0.1,\"#c51b7d\"],[0.2,\"#de77ae\"],[0.3,\"#f1b6da\"],[0.4,\"#fde0ef\"],[0.5,\"#f7f7f7\"],[0.6,\"#e6f5d0\"],[0.7,\"#b8e186\"],[0.8,\"#7fbc41\"],[0.9,\"#4d9221\"],[1,\"#276419\"]]},\"xaxis\":{\"gridcolor\":\"white\",\"linecolor\":\"white\",\"ticks\":\"\",\"title\":{\"standoff\":15},\"zerolinecolor\":\"white\",\"automargin\":true,\"zerolinewidth\":2},\"yaxis\":{\"gridcolor\":\"white\",\"linecolor\":\"white\",\"ticks\":\"\",\"title\":{\"standoff\":15},\"zerolinecolor\":\"white\",\"automargin\":true,\"zerolinewidth\":2},\"scene\":{\"xaxis\":{\"backgroundcolor\":\"#E5ECF6\",\"gridcolor\":\"white\",\"linecolor\":\"white\",\"showbackground\":true,\"ticks\":\"\",\"zerolinecolor\":\"white\",\"gridwidth\":2},\"yaxis\":{\"backgroundcolor\":\"#E5ECF6\",\"gridcolor\":\"white\",\"linecolor\":\"white\",\"showbackground\":true,\"ticks\":\"\",\"zerolinecolor\":\"white\",\"gridwidth\":2},\"zaxis\":{\"backgroundcolor\":\"#E5ECF6\",\"gridcolor\":\"white\",\"linecolor\":\"white\",\"showbackground\":true,\"ticks\":\"\",\"zerolinecolor\":\"white\",\"gridwidth\":2}},\"shapedefaults\":{\"line\":{\"color\":\"#2a3f5f\"}},\"annotationdefaults\":{\"arrowcolor\":\"#2a3f5f\",\"arrowhead\":0,\"arrowwidth\":1},\"geo\":{\"bgcolor\":\"white\",\"landcolor\":\"#E5ECF6\",\"subunitcolor\":\"white\",\"showland\":true,\"showlakes\":true,\"lakecolor\":\"white\"},\"title\":{\"x\":0.05},\"mapbox\":{\"style\":\"light\"}}},\"xaxis\":{\"anchor\":\"y\",\"domain\":[0.0,1.0],\"title\":{\"text\":\"total_spent\"}},\"yaxis\":{\"anchor\":\"x\",\"domain\":[0.0,1.0],\"title\":{\"text\":\"order_count\"}},\"legend\":{\"title\":{\"text\":\"color\"},\"tracegroupgap\":0},\"title\":{\"text\":\"Customer Segmentation\"}},                        {\"responsive\": true}                    ).then(function(){\n",
              "                            \n",
              "var gd = document.getElementById('aadbc41b-1856-45e1-a54b-18efc22a1f3e');\n",
              "var x = new MutationObserver(function (mutations, observer) {{\n",
              "        var display = window.getComputedStyle(gd).display;\n",
              "        if (!display || display === 'none') {{\n",
              "            console.log([gd, 'removed!']);\n",
              "            Plotly.purge(gd);\n",
              "            observer.disconnect();\n",
              "        }}\n",
              "}});\n",
              "\n",
              "// Listen for the removal of the full notebook cells\n",
              "var notebookContainer = gd.closest('#notebook-container');\n",
              "if (notebookContainer) {{\n",
              "    x.observe(notebookContainer, {childList: true});\n",
              "}}\n",
              "\n",
              "// Listen for the clearing of the current output cell\n",
              "var outputEl = gd.closest('.output');\n",
              "if (outputEl) {{\n",
              "    x.observe(outputEl, {childList: true});\n",
              "}}\n",
              "\n",
              "                        })                };                            </script>        </div>\n",
              "</body>\n",
              "</html>"
            ]
          },
          "metadata": {}
        }
      ],
      "source": [
        "\n",
        "from sklearn.cluster import KMeans\n",
        "from sklearn.preprocessing import StandardScaler\n",
        "\n",
        "# Prepare data for clustering\n",
        "spending_data = customers[['total_spent', 'order_count']]\n",
        "scaler = StandardScaler()\n",
        "scaled_data = scaler.fit_transform(spending_data)\n",
        "\n",
        "# Apply K-Means clustering\n",
        "kmeans = KMeans(n_clusters=3, random_state=42)\n",
        "customers['segment'] = kmeans.fit_predict(scaled_data)\n",
        "\n",
        "# Visualize clusters\n",
        "fig = px.scatter(customers, x='total_spent', y='order_count', color=customers['segment'].astype(str), title='Customer Segmentation')\n",
        "fig.show()"
      ]
    },
    {
      "cell_type": "markdown",
      "metadata": {
        "id": "2e8c626b"
      },
      "source": [
        "## Revenue Forecasting  \n",
        "We use an ARIMA model to predict future revenue trends."
      ]
    },
    {
      "cell_type": "code",
      "execution_count": null,
      "metadata": {
        "colab": {
          "base_uri": "https://localhost:8080/",
          "height": 630
        },
        "id": "84f95bc4",
        "outputId": "2e8081f4-1a64-4339-910a-264e8b48c3f9"
      },
      "outputs": [
        {
          "output_type": "stream",
          "name": "stderr",
          "text": [
            "/usr/local/lib/python3.11/dist-packages/statsmodels/tsa/base/tsa_model.py:473: ValueWarning:\n",
            "\n",
            "A date index has been provided, but it has no associated frequency information and so will be ignored when e.g. forecasting.\n",
            "\n",
            "/usr/local/lib/python3.11/dist-packages/statsmodels/tsa/base/tsa_model.py:473: ValueWarning:\n",
            "\n",
            "A date index has been provided, but it has no associated frequency information and so will be ignored when e.g. forecasting.\n",
            "\n",
            "/usr/local/lib/python3.11/dist-packages/statsmodels/tsa/base/tsa_model.py:473: ValueWarning:\n",
            "\n",
            "A date index has been provided, but it has no associated frequency information and so will be ignored when e.g. forecasting.\n",
            "\n",
            "/usr/local/lib/python3.11/dist-packages/statsmodels/tsa/base/tsa_model.py:837: ValueWarning:\n",
            "\n",
            "No supported index is available. Prediction results will be given with an integer index beginning at `start`.\n",
            "\n",
            "/usr/local/lib/python3.11/dist-packages/statsmodels/tsa/base/tsa_model.py:837: FutureWarning:\n",
            "\n",
            "No supported index is available. In the next version, calling this method in a model without a supported index will result in an exception.\n",
            "\n"
          ]
        },
        {
          "output_type": "execute_result",
          "data": {
            "text/plain": [
              "<Axes: title={'center': 'Revenue Forecast for Next 30 Days'}>"
            ]
          },
          "metadata": {},
          "execution_count": 26
        },
        {
          "output_type": "display_data",
          "data": {
            "text/plain": [
              "<Figure size 640x480 with 1 Axes>"
            ],
            "image/png": "[encoded data removed]"
          },
          "metadata": {}
        }
      ],
      "source": [
        "\n",
        "from statsmodels.tsa.arima.model import ARIMA\n",
        "\n",
        "# Prepare time series data\n",
        "orders['order_date'] = pd.to_datetime(orders['order_date'])\n",
        "revenue_ts = orders.groupby('order_date')['amount'].sum()\n",
        "\n",
        "# Fit ARIMA model\n",
        "model = ARIMA(revenue_ts, order=(5,1,0))\n",
        "model_fit = model.fit()\n",
        "\n",
        "# Forecast next 30 days\n",
        "forecast = model_fit.forecast(steps=30)\n",
        "forecast.plot(title='Revenue Forecast for Next 30 Days')"
      ]
    },
    {
      "cell_type": "code",
      "source": [
        "!pip install gitpython"
      ],
      "metadata": {
        "colab": {
          "base_uri": "https://localhost:8080/"
        },
        "id": "kXaTXatgfA0b",
        "outputId": "c64c0038-6be1-440c-9688-9392b690c72a"
      },
      "execution_count": null,
      "outputs": [
        {
          "output_type": "stream",
          "name": "stdout",
          "text": [
            "Requirement already satisfied: gitpython in /usr/local/lib/python3.11/dist-packages (3.1.44)\n",
            "Requirement already satisfied: gitdb<5,>=4.0.1 in /usr/local/lib/python3.11/dist-packages (from gitpython) (4.0.12)\n",
            "Requirement already satisfied: smmap<6,>=3.0.1 in /usr/local/lib/python3.11/dist-packages (from gitdb<5,>=4.0.1->gitpython) (5.0.2)\n"
          ]
        }
      ]
    },
    {
      "cell_type": "code",
      "source": [],
      "metadata": {
        "id": "bStg81GAgJsU"
      },
      "execution_count": null,
      "outputs": []
    },
    {
      "cell_type": "code",
      "source": [
        "!zip -r Customer_Behavior_Project.zip /content/drive/MyDrive/customer_behavior_project"
      ],
      "metadata": {
        "colab": {
          "base_uri": "https://localhost:8080/"
        },
        "id": "Ys-RltAvo1d_",
        "outputId": "e7082db2-07bc-4e63-aeb2-a6a2cce7ca1b"
      },
      "execution_count": null,
      "outputs": [
        {
          "output_type": "stream",
          "name": "stdout",
          "text": [
            "  adding: content/drive/MyDrive/customer_behavior_project/ (stored 0%)\n",
            "  adding: content/drive/MyDrive/customer_behavior_project/data.csv (stored 0%)\n",
            "  adding: content/drive/MyDrive/customer_behavior_project/analysis.ipynb (deflated 54%)\n",
            "  adding: content/drive/MyDrive/customer_behavior_project/data/ (stored 0%)\n",
            "  adding: content/drive/MyDrive/customer_behavior_project/data/customer_behavior.csv (deflated 63%)\n",
            "  adding: content/drive/MyDrive/customer_behavior_project/data/threat_simulation.csv (deflated 71%)\n",
            "  adding: content/drive/MyDrive/customer_behavior_project/data/customers.csv (deflated 79%)\n",
            "  adding: content/drive/MyDrive/customer_behavior_project/data/orders.csv (deflated 73%)\n",
            "  adding: content/drive/MyDrive/customer_behavior_project/data/behavior_logs.csv (deflated 77%)\n",
            "  adding: content/drive/MyDrive/customer_behavior_project/data/cyber_attack_logs.csv (deflated 84%)\n",
            "  adding: content/drive/MyDrive/customer_behavior_project/reports/ (stored 0%)\n",
            "  adding: content/drive/MyDrive/customer_behavior_project/reports/project_report.pdf (deflated 32%)\n",
            "  adding: content/drive/MyDrive/customer_behavior_project/reports/customer_segmentation.png (deflated 7%)\n",
            "  adding: content/drive/MyDrive/customer_behavior_project/reports/churn_report.txt (deflated 59%)\n",
            "  adding: content/drive/MyDrive/customer_behavior_project/reports/anomalies.csv (deflated 71%)\n",
            "  adding: content/drive/MyDrive/customer_behavior_project/reports/cyber_attack_summary.csv (deflated 57%)\n",
            "  adding: content/drive/MyDrive/customer_behavior_project/docs/ (stored 0%)\n",
            "  adding: content/drive/MyDrive/customer_behavior_project/scripts/ (stored 0%)\n",
            "  adding: content/drive/MyDrive/customer_behavior_project/README.md (deflated 47%)\n",
            "  adding: content/drive/MyDrive/customer_behavior_project/requirements.txt (stored 0%)\n",
            "  adding: content/drive/MyDrive/customer_behavior_project/project_overview.md (stored 0%)\n",
            "  adding: content/drive/MyDrive/customer_behavior_project/code_explanation.md (deflated 5%)\n",
            "  adding: content/drive/MyDrive/customer_behavior_project/.git/ (stored 0%)\n",
            "  adding: content/drive/MyDrive/customer_behavior_project/.git/hooks/ (stored 0%)\n",
            "  adding: content/drive/MyDrive/customer_behavior_project/.git/hooks/applypatch-msg.sample (deflated 42%)\n",
            "  adding: content/drive/MyDrive/customer_behavior_project/.git/hooks/pre-rebase.sample (deflated 59%)\n",
            "  adding: content/drive/MyDrive/customer_behavior_project/.git/hooks/pre-receive.sample (deflated 40%)\n",
            "  adding: content/drive/MyDrive/customer_behavior_project/.git/hooks/pre-applypatch.sample (deflated 38%)\n",
            "  adding: content/drive/MyDrive/customer_behavior_project/.git/hooks/post-update.sample (deflated 27%)\n",
            "  adding: content/drive/MyDrive/customer_behavior_project/.git/hooks/commit-msg.sample (deflated 44%)\n",
            "  adding: content/drive/MyDrive/customer_behavior_project/.git/hooks/update.sample (deflated 68%)\n",
            "  adding: content/drive/MyDrive/customer_behavior_project/.git/hooks/pre-commit.sample (deflated 45%)\n",
            "  adding: content/drive/MyDrive/customer_behavior_project/.git/hooks/prepare-commit-msg.sample (deflated 50%)\n",
            "  adding: content/drive/MyDrive/customer_behavior_project/.git/hooks/pre-merge-commit.sample (deflated 39%)\n",
            "  adding: content/drive/MyDrive/customer_behavior_project/.git/hooks/pre-push.sample (deflated 49%)\n",
            "  adding: content/drive/MyDrive/customer_behavior_project/.git/hooks/push-to-checkout.sample (deflated 55%)\n",
            "  adding: content/drive/MyDrive/customer_behavior_project/.git/hooks/fsmonitor-watchman.sample (deflated 62%)\n",
            "  adding: content/drive/MyDrive/customer_behavior_project/.git/info/ (stored 0%)\n",
            "  adding: content/drive/MyDrive/customer_behavior_project/.git/info/exclude (deflated 28%)\n",
            "  adding: content/drive/MyDrive/customer_behavior_project/.git/branches/ (stored 0%)\n",
            "  adding: content/drive/MyDrive/customer_behavior_project/.git/description (deflated 14%)\n",
            "  adding: content/drive/MyDrive/customer_behavior_project/.git/refs/ (stored 0%)\n",
            "  adding: content/drive/MyDrive/customer_behavior_project/.git/refs/heads/ (stored 0%)\n",
            "  adding: content/drive/MyDrive/customer_behavior_project/.git/refs/heads/master (stored 0%)\n",
            "  adding: content/drive/MyDrive/customer_behavior_project/.git/refs/tags/ (stored 0%)\n",
            "  adding: content/drive/MyDrive/customer_behavior_project/.git/HEAD (stored 0%)\n",
            "  adding: content/drive/MyDrive/customer_behavior_project/.git/config (deflated 29%)\n",
            "  adding: content/drive/MyDrive/customer_behavior_project/.git/objects/ (stored 0%)\n",
            "  adding: content/drive/MyDrive/customer_behavior_project/.git/objects/pack/ (stored 0%)\n",
            "  adding: content/drive/MyDrive/customer_behavior_project/.git/objects/info/ (stored 0%)\n",
            "  adding: content/drive/MyDrive/customer_behavior_project/.git/objects/d4/ (stored 0%)\n",
            "  adding: content/drive/MyDrive/customer_behavior_project/.git/objects/d4/fc788313cfc0db58eb996d85f14ba005fb8920 (stored 0%)\n",
            "  adding: content/drive/MyDrive/customer_behavior_project/.git/objects/d2/ (stored 0%)\n",
            "  adding: content/drive/MyDrive/customer_behavior_project/.git/objects/d2/a8c6e38137939a33c828dcd284ff731c4541cc (stored 0%)\n",
            "  adding: content/drive/MyDrive/customer_behavior_project/.git/objects/21/ (stored 0%)\n",
            "  adding: content/drive/MyDrive/customer_behavior_project/.git/objects/21/693c4b4db476136fcf65101ddb30d910c1534f (stored 0%)\n",
            "  adding: content/drive/MyDrive/customer_behavior_project/.git/objects/9b/ (stored 0%)\n",
            "  adding: content/drive/MyDrive/customer_behavior_project/.git/objects/9b/8cf3c5b97c0a42fbafa9e66e9d2d1c822ad02f (stored 0%)\n",
            "  adding: content/drive/MyDrive/customer_behavior_project/.git/objects/80/ (stored 0%)\n",
            "  adding: content/drive/MyDrive/customer_behavior_project/.git/objects/80/0012c798a69f863a8943fcb7f4cd04ae89109d (stored 0%)\n",
            "  adding: content/drive/MyDrive/customer_behavior_project/.git/objects/74/ (stored 0%)\n",
            "  adding: content/drive/MyDrive/customer_behavior_project/.git/objects/74/622b7f1f94038f7a77402ea56ca03f3d5fa66b (stored 0%)\n",
            "  adding: content/drive/MyDrive/customer_behavior_project/.git/objects/3e/ (stored 0%)\n",
            "  adding: content/drive/MyDrive/customer_behavior_project/.git/objects/3e/0028ec98d225166d7b79dcc7cbf7e3f12f3246 (stored 0%)\n",
            "  adding: content/drive/MyDrive/customer_behavior_project/.git/objects/9d/ (stored 0%)\n",
            "  adding: content/drive/MyDrive/customer_behavior_project/.git/objects/9d/52d8db1b4831ab78f5007328b6eba2b803063d (stored 0%)\n",
            "  adding: content/drive/MyDrive/customer_behavior_project/.git/objects/6a/ (stored 0%)\n",
            "  adding: content/drive/MyDrive/customer_behavior_project/.git/objects/6a/f21504c0a95fa754dbd483c1b86b43d4226b0e (stored 0%)\n",
            "  adding: content/drive/MyDrive/customer_behavior_project/.git/objects/13/ (stored 0%)\n",
            "  adding: content/drive/MyDrive/customer_behavior_project/.git/objects/13/70aae5dbd56b3a8f8dc5a1d4eaf1d89eb83191 (stored 0%)\n",
            "  adding: content/drive/MyDrive/customer_behavior_project/.git/objects/99/ (stored 0%)\n",
            "  adding: content/drive/MyDrive/customer_behavior_project/.git/objects/99/6eeea4e69aaeb9653c067398c843920321ce72 (stored 0%)\n",
            "  adding: content/drive/MyDrive/customer_behavior_project/.git/objects/8e/ (stored 0%)\n",
            "  adding: content/drive/MyDrive/customer_behavior_project/.git/objects/8e/3aa01ad5add7c4e92ee69b89649e40d245580f (stored 0%)\n",
            "  adding: content/drive/MyDrive/customer_behavior_project/.git/objects/cd/ (stored 0%)\n",
            "  adding: content/drive/MyDrive/customer_behavior_project/.git/objects/cd/2014252ad678f76aa3466e666bae8155ffc2c2 (stored 0%)\n",
            "  adding: content/drive/MyDrive/customer_behavior_project/.git/objects/a3/ (stored 0%)\n",
            "  adding: content/drive/MyDrive/customer_behavior_project/.git/objects/a3/c91d7cc62e20c8336d03c1c5959afbc784054c (deflated 0%)\n",
            "  adding: content/drive/MyDrive/customer_behavior_project/.git/objects/dd/ (stored 0%)\n",
            "  adding: content/drive/MyDrive/customer_behavior_project/.git/objects/dd/ce2cfd40bf69f95b467e148cb777b59c16ea14 (stored 0%)\n",
            "  adding: content/drive/MyDrive/customer_behavior_project/.git/objects/3d/ (stored 0%)\n",
            "  adding: content/drive/MyDrive/customer_behavior_project/.git/objects/3d/5651bb484d9159c6aa00d6c5273a27ff7d3d66 (stored 0%)\n",
            "  adding: content/drive/MyDrive/customer_behavior_project/.git/objects/b7/ (stored 0%)\n",
            "  adding: content/drive/MyDrive/customer_behavior_project/.git/objects/b7/503c14d658e49788874a0194be38191faeaa03 (stored 0%)\n",
            "  adding: content/drive/MyDrive/customer_behavior_project/.git/objects/2e/ (stored 0%)\n",
            "  adding: content/drive/MyDrive/customer_behavior_project/.git/objects/2e/d85fff065bc253984a311cba36af7b8366dcc1 (stored 0%)\n",
            "  adding: content/drive/MyDrive/customer_behavior_project/.git/objects/77/ (stored 0%)\n",
            "  adding: content/drive/MyDrive/customer_behavior_project/.git/objects/77/51e980c16ccf6bcd2f008fc26cd55d3c2216fe (stored 0%)\n",
            "  adding: content/drive/MyDrive/customer_behavior_project/.git/objects/b0/ (stored 0%)\n",
            "  adding: content/drive/MyDrive/customer_behavior_project/.git/objects/b0/1eb73294a5c6dc214cde1fce98617c97448881 (stored 0%)\n",
            "  adding: content/drive/MyDrive/customer_behavior_project/.git/objects/c0/ (stored 0%)\n",
            "  adding: content/drive/MyDrive/customer_behavior_project/.git/objects/c0/6087bb4cb4b1b3aecf2261dbb8db53a7d5c902 (stored 0%)\n",
            "  adding: content/drive/MyDrive/customer_behavior_project/.git/objects/b6/ (stored 0%)\n",
            "  adding: content/drive/MyDrive/customer_behavior_project/.git/objects/b6/626f9b523e6a7402df98d6809d5a97dcbba27b (stored 0%)\n",
            "  adding: content/drive/MyDrive/customer_behavior_project/.git/objects/5c/ (stored 0%)\n",
            "  adding: content/drive/MyDrive/customer_behavior_project/.git/objects/5c/849e4981f5beadac86767e1a0ea7b7a46c556f (stored 0%)\n",
            "  adding: content/drive/MyDrive/customer_behavior_project/.git/index (deflated 44%)\n",
            "  adding: content/drive/MyDrive/customer_behavior_project/.git/logs/ (stored 0%)\n",
            "  adding: content/drive/MyDrive/customer_behavior_project/.git/logs/refs/ (stored 0%)\n",
            "  adding: content/drive/MyDrive/customer_behavior_project/.git/logs/refs/heads/ (stored 0%)\n",
            "  adding: content/drive/MyDrive/customer_behavior_project/.git/logs/refs/heads/master (deflated 62%)\n",
            "  adding: content/drive/MyDrive/customer_behavior_project/.git/logs/HEAD (deflated 58%)\n"
          ]
        }
      ]
    },
    {
      "cell_type": "code",
      "source": [],
      "metadata": {
        "id": "1yYBEJwspUsE"
      },
      "execution_count": null,
      "outputs": []
    },
    {
      "cell_type": "code",
      "source": [
        "\n",
        "from google.colab import drive\n",
        "drive.mount('/content/drive')"
      ],
      "metadata": {
        "colab": {
          "base_uri": "https://localhost:8080/"
        },
        "id": "RCPOp9AKq5WL",
        "outputId": "6ce0ae5b-a50c-48ea-eb46-0bfd92854feb"
      },
      "execution_count": null,
      "outputs": [
        {
          "output_type": "stream",
          "name": "stdout",
          "text": [
            "Drive already mounted at /content/drive; to attempt to forcibly remount, call drive.mount(\"/content/drive\", force_remount=True).\n"
          ]
        }
      ]
    },
    {
      "cell_type": "code",
      "source": [
        "!zip -r Customer_Behavior_Project.zip /content/drive/MyDrive/customer_behavior_project"
      ],
      "metadata": {
        "colab": {
          "base_uri": "https://localhost:8080/"
        },
        "id": "UomnnaeDq-z4",
        "outputId": "116c2e0b-2cb9-4765-9fe5-5d2968241a6d"
      },
      "execution_count": null,
      "outputs": [
        {
          "output_type": "stream",
          "name": "stdout",
          "text": [
            "updating: content/drive/MyDrive/customer_behavior_project/ (stored 0%)\n",
            "updating: content/drive/MyDrive/customer_behavior_project/data.csv (stored 0%)\n",
            "updating: content/drive/MyDrive/customer_behavior_project/analysis.ipynb (deflated 54%)\n",
            "updating: content/drive/MyDrive/customer_behavior_project/data/ (stored 0%)\n",
            "updating: content/drive/MyDrive/customer_behavior_project/data/customer_behavior.csv (deflated 63%)\n",
            "updating: content/drive/MyDrive/customer_behavior_project/data/threat_simulation.csv (deflated 71%)\n",
            "updating: content/drive/MyDrive/customer_behavior_project/data/customers.csv (deflated 79%)\n",
            "updating: content/drive/MyDrive/customer_behavior_project/data/orders.csv (deflated 73%)\n",
            "updating: content/drive/MyDrive/customer_behavior_project/data/behavior_logs.csv (deflated 77%)\n",
            "updating: content/drive/MyDrive/customer_behavior_project/data/cyber_attack_logs.csv (deflated 84%)\n",
            "updating: content/drive/MyDrive/customer_behavior_project/reports/ (stored 0%)\n",
            "updating: content/drive/MyDrive/customer_behavior_project/reports/project_report.pdf (deflated 32%)\n",
            "updating: content/drive/MyDrive/customer_behavior_project/reports/customer_segmentation.png (deflated 7%)\n",
            "updating: content/drive/MyDrive/customer_behavior_project/reports/churn_report.txt (deflated 59%)\n",
            "updating: content/drive/MyDrive/customer_behavior_project/reports/anomalies.csv (deflated 71%)\n",
            "updating: content/drive/MyDrive/customer_behavior_project/reports/cyber_attack_summary.csv (deflated 57%)\n",
            "updating: content/drive/MyDrive/customer_behavior_project/docs/ (stored 0%)\n",
            "updating: content/drive/MyDrive/customer_behavior_project/scripts/ (stored 0%)\n",
            "updating: content/drive/MyDrive/customer_behavior_project/README.md (deflated 47%)\n",
            "updating: content/drive/MyDrive/customer_behavior_project/requirements.txt (stored 0%)\n",
            "updating: content/drive/MyDrive/customer_behavior_project/project_overview.md (stored 0%)\n",
            "updating: content/drive/MyDrive/customer_behavior_project/code_explanation.md (deflated 5%)\n",
            "updating: content/drive/MyDrive/customer_behavior_project/.git/ (stored 0%)\n",
            "updating: content/drive/MyDrive/customer_behavior_project/.git/hooks/ (stored 0%)\n",
            "updating: content/drive/MyDrive/customer_behavior_project/.git/hooks/applypatch-msg.sample (deflated 42%)\n",
            "updating: content/drive/MyDrive/customer_behavior_project/.git/hooks/pre-rebase.sample (deflated 59%)\n",
            "updating: content/drive/MyDrive/customer_behavior_project/.git/hooks/pre-receive.sample (deflated 40%)\n",
            "updating: content/drive/MyDrive/customer_behavior_project/.git/hooks/pre-applypatch.sample (deflated 38%)\n",
            "updating: content/drive/MyDrive/customer_behavior_project/.git/hooks/post-update.sample (deflated 27%)\n",
            "updating: content/drive/MyDrive/customer_behavior_project/.git/hooks/commit-msg.sample (deflated 44%)\n",
            "updating: content/drive/MyDrive/customer_behavior_project/.git/hooks/update.sample (deflated 68%)\n",
            "updating: content/drive/MyDrive/customer_behavior_project/.git/hooks/pre-commit.sample (deflated 45%)\n",
            "updating: content/drive/MyDrive/customer_behavior_project/.git/hooks/prepare-commit-msg.sample (deflated 50%)\n",
            "updating: content/drive/MyDrive/customer_behavior_project/.git/hooks/pre-merge-commit.sample (deflated 39%)\n",
            "updating: content/drive/MyDrive/customer_behavior_project/.git/hooks/pre-push.sample (deflated 49%)\n",
            "updating: content/drive/MyDrive/customer_behavior_project/.git/hooks/push-to-checkout.sample (deflated 55%)\n",
            "updating: content/drive/MyDrive/customer_behavior_project/.git/hooks/fsmonitor-watchman.sample (deflated 62%)\n",
            "updating: content/drive/MyDrive/customer_behavior_project/.git/info/ (stored 0%)\n",
            "updating: content/drive/MyDrive/customer_behavior_project/.git/info/exclude (deflated 28%)\n",
            "updating: content/drive/MyDrive/customer_behavior_project/.git/branches/ (stored 0%)\n",
            "updating: content/drive/MyDrive/customer_behavior_project/.git/description (deflated 14%)\n",
            "updating: content/drive/MyDrive/customer_behavior_project/.git/refs/ (stored 0%)\n",
            "updating: content/drive/MyDrive/customer_behavior_project/.git/refs/heads/ (stored 0%)\n",
            "updating: content/drive/MyDrive/customer_behavior_project/.git/refs/heads/master (stored 0%)\n",
            "updating: content/drive/MyDrive/customer_behavior_project/.git/refs/tags/ (stored 0%)\n",
            "updating: content/drive/MyDrive/customer_behavior_project/.git/HEAD (stored 0%)\n",
            "updating: content/drive/MyDrive/customer_behavior_project/.git/config (deflated 29%)\n",
            "updating: content/drive/MyDrive/customer_behavior_project/.git/objects/ (stored 0%)\n",
            "updating: content/drive/MyDrive/customer_behavior_project/.git/objects/pack/ (stored 0%)\n",
            "updating: content/drive/MyDrive/customer_behavior_project/.git/objects/info/ (stored 0%)\n",
            "updating: content/drive/MyDrive/customer_behavior_project/.git/objects/d4/ (stored 0%)\n",
            "updating: content/drive/MyDrive/customer_behavior_project/.git/objects/d4/fc788313cfc0db58eb996d85f14ba005fb8920 (stored 0%)\n",
            "updating: content/drive/MyDrive/customer_behavior_project/.git/objects/d2/ (stored 0%)\n",
            "updating: content/drive/MyDrive/customer_behavior_project/.git/objects/d2/a8c6e38137939a33c828dcd284ff731c4541cc (stored 0%)\n",
            "updating: content/drive/MyDrive/customer_behavior_project/.git/objects/21/ (stored 0%)\n",
            "updating: content/drive/MyDrive/customer_behavior_project/.git/objects/21/693c4b4db476136fcf65101ddb30d910c1534f (stored 0%)\n",
            "updating: content/drive/MyDrive/customer_behavior_project/.git/objects/9b/ (stored 0%)\n",
            "updating: content/drive/MyDrive/customer_behavior_project/.git/objects/9b/8cf3c5b97c0a42fbafa9e66e9d2d1c822ad02f (stored 0%)\n",
            "updating: content/drive/MyDrive/customer_behavior_project/.git/objects/80/ (stored 0%)\n",
            "updating: content/drive/MyDrive/customer_behavior_project/.git/objects/80/0012c798a69f863a8943fcb7f4cd04ae89109d (stored 0%)\n",
            "updating: content/drive/MyDrive/customer_behavior_project/.git/objects/74/ (stored 0%)\n",
            "updating: content/drive/MyDrive/customer_behavior_project/.git/objects/74/622b7f1f94038f7a77402ea56ca03f3d5fa66b (stored 0%)\n",
            "updating: content/drive/MyDrive/customer_behavior_project/.git/objects/3e/ (stored 0%)\n",
            "updating: content/drive/MyDrive/customer_behavior_project/.git/objects/3e/0028ec98d225166d7b79dcc7cbf7e3f12f3246 (stored 0%)\n",
            "updating: content/drive/MyDrive/customer_behavior_project/.git/objects/9d/ (stored 0%)\n",
            "updating: content/drive/MyDrive/customer_behavior_project/.git/objects/9d/52d8db1b4831ab78f5007328b6eba2b803063d (stored 0%)\n",
            "updating: content/drive/MyDrive/customer_behavior_project/.git/objects/6a/ (stored 0%)\n",
            "updating: content/drive/MyDrive/customer_behavior_project/.git/objects/6a/f21504c0a95fa754dbd483c1b86b43d4226b0e (stored 0%)\n",
            "updating: content/drive/MyDrive/customer_behavior_project/.git/objects/13/ (stored 0%)\n",
            "updating: content/drive/MyDrive/customer_behavior_project/.git/objects/13/70aae5dbd56b3a8f8dc5a1d4eaf1d89eb83191 (stored 0%)\n",
            "updating: content/drive/MyDrive/customer_behavior_project/.git/objects/99/ (stored 0%)\n",
            "updating: content/drive/MyDrive/customer_behavior_project/.git/objects/99/6eeea4e69aaeb9653c067398c843920321ce72 (stored 0%)\n",
            "updating: content/drive/MyDrive/customer_behavior_project/.git/objects/8e/ (stored 0%)\n",
            "updating: content/drive/MyDrive/customer_behavior_project/.git/objects/8e/3aa01ad5add7c4e92ee69b89649e40d245580f (stored 0%)\n",
            "updating: content/drive/MyDrive/customer_behavior_project/.git/objects/cd/ (stored 0%)\n",
            "updating: content/drive/MyDrive/customer_behavior_project/.git/objects/cd/2014252ad678f76aa3466e666bae8155ffc2c2 (stored 0%)\n",
            "updating: content/drive/MyDrive/customer_behavior_project/.git/objects/a3/ (stored 0%)\n",
            "updating: content/drive/MyDrive/customer_behavior_project/.git/objects/a3/c91d7cc62e20c8336d03c1c5959afbc784054c (deflated 0%)\n",
            "updating: content/drive/MyDrive/customer_behavior_project/.git/objects/dd/ (stored 0%)\n",
            "updating: content/drive/MyDrive/customer_behavior_project/.git/objects/dd/ce2cfd40bf69f95b467e148cb777b59c16ea14 (stored 0%)\n",
            "updating: content/drive/MyDrive/customer_behavior_project/.git/objects/3d/ (stored 0%)\n",
            "updating: content/drive/MyDrive/customer_behavior_project/.git/objects/3d/5651bb484d9159c6aa00d6c5273a27ff7d3d66 (stored 0%)\n",
            "updating: content/drive/MyDrive/customer_behavior_project/.git/objects/b7/ (stored 0%)\n",
            "updating: content/drive/MyDrive/customer_behavior_project/.git/objects/b7/503c14d658e49788874a0194be38191faeaa03 (stored 0%)\n",
            "updating: content/drive/MyDrive/customer_behavior_project/.git/objects/2e/ (stored 0%)\n",
            "updating: content/drive/MyDrive/customer_behavior_project/.git/objects/2e/d85fff065bc253984a311cba36af7b8366dcc1 (stored 0%)\n",
            "updating: content/drive/MyDrive/customer_behavior_project/.git/objects/77/ (stored 0%)\n",
            "updating: content/drive/MyDrive/customer_behavior_project/.git/objects/77/51e980c16ccf6bcd2f008fc26cd55d3c2216fe (stored 0%)\n",
            "updating: content/drive/MyDrive/customer_behavior_project/.git/objects/b0/ (stored 0%)\n",
            "updating: content/drive/MyDrive/customer_behavior_project/.git/objects/b0/1eb73294a5c6dc214cde1fce98617c97448881 (stored 0%)\n",
            "updating: content/drive/MyDrive/customer_behavior_project/.git/objects/c0/ (stored 0%)\n",
            "updating: content/drive/MyDrive/customer_behavior_project/.git/objects/c0/6087bb4cb4b1b3aecf2261dbb8db53a7d5c902 (stored 0%)\n",
            "updating: content/drive/MyDrive/customer_behavior_project/.git/objects/b6/ (stored 0%)\n",
            "updating: content/drive/MyDrive/customer_behavior_project/.git/objects/b6/626f9b523e6a7402df98d6809d5a97dcbba27b (stored 0%)\n",
            "updating: content/drive/MyDrive/customer_behavior_project/.git/objects/5c/ (stored 0%)\n",
            "updating: content/drive/MyDrive/customer_behavior_project/.git/objects/5c/849e4981f5beadac86767e1a0ea7b7a46c556f (stored 0%)\n",
            "updating: content/drive/MyDrive/customer_behavior_project/.git/index (deflated 44%)\n",
            "updating: content/drive/MyDrive/customer_behavior_project/.git/logs/ (stored 0%)\n",
            "updating: content/drive/MyDrive/customer_behavior_project/.git/logs/refs/ (stored 0%)\n",
            "updating: content/drive/MyDrive/customer_behavior_project/.git/logs/refs/heads/ (stored 0%)\n",
            "updating: content/drive/MyDrive/customer_behavior_project/.git/logs/refs/heads/master (deflated 62%)\n",
            "updating: content/drive/MyDrive/customer_behavior_project/.git/logs/HEAD (deflated 58%)\n"
          ]
        }
      ]
    },
    {
      "cell_type": "code",
      "source": [
        "!zip -r /content/drive/MyDrive/Customer_Behavior_Project.zip /content/drive/MyDrive/customer_behavior_project"
      ],
      "metadata": {
        "colab": {
          "base_uri": "https://localhost:8080/"
        },
        "id": "PDhI6M9srJ81",
        "outputId": "ceda934a-e043-4830-f393-5a57114967b7"
      },
      "execution_count": null,
      "outputs": [
        {
          "output_type": "stream",
          "name": "stdout",
          "text": [
            "  adding: content/drive/MyDrive/customer_behavior_project/ (stored 0%)\n",
            "  adding: content/drive/MyDrive/customer_behavior_project/data.csv (stored 0%)\n",
            "  adding: content/drive/MyDrive/customer_behavior_project/analysis.ipynb (deflated 54%)\n",
            "  adding: content/drive/MyDrive/customer_behavior_project/data/ (stored 0%)\n",
            "  adding: content/drive/MyDrive/customer_behavior_project/data/customer_behavior.csv (deflated 63%)\n",
            "  adding: content/drive/MyDrive/customer_behavior_project/data/threat_simulation.csv (deflated 71%)\n",
            "  adding: content/drive/MyDrive/customer_behavior_project/data/customers.csv (deflated 79%)\n",
            "  adding: content/drive/MyDrive/customer_behavior_project/data/orders.csv (deflated 73%)\n",
            "  adding: content/drive/MyDrive/customer_behavior_project/data/behavior_logs.csv (deflated 77%)\n",
            "  adding: content/drive/MyDrive/customer_behavior_project/data/cyber_attack_logs.csv (deflated 84%)\n",
            "  adding: content/drive/MyDrive/customer_behavior_project/reports/ (stored 0%)\n",
            "  adding: content/drive/MyDrive/customer_behavior_project/reports/project_report.pdf (deflated 32%)\n",
            "  adding: content/drive/MyDrive/customer_behavior_project/reports/customer_segmentation.png (deflated 7%)\n",
            "  adding: content/drive/MyDrive/customer_behavior_project/reports/churn_report.txt (deflated 59%)\n",
            "  adding: content/drive/MyDrive/customer_behavior_project/reports/anomalies.csv (deflated 71%)\n",
            "  adding: content/drive/MyDrive/customer_behavior_project/reports/cyber_attack_summary.csv (deflated 57%)\n",
            "  adding: content/drive/MyDrive/customer_behavior_project/docs/ (stored 0%)\n",
            "  adding: content/drive/MyDrive/customer_behavior_project/scripts/ (stored 0%)\n",
            "  adding: content/drive/MyDrive/customer_behavior_project/README.md (deflated 47%)\n",
            "  adding: content/drive/MyDrive/customer_behavior_project/requirements.txt (stored 0%)\n",
            "  adding: content/drive/MyDrive/customer_behavior_project/project_overview.md (stored 0%)\n",
            "  adding: content/drive/MyDrive/customer_behavior_project/code_explanation.md (deflated 5%)\n",
            "  adding: content/drive/MyDrive/customer_behavior_project/.git/ (stored 0%)\n",
            "  adding: content/drive/MyDrive/customer_behavior_project/.git/hooks/ (stored 0%)\n",
            "  adding: content/drive/MyDrive/customer_behavior_project/.git/hooks/applypatch-msg.sample (deflated 42%)\n",
            "  adding: content/drive/MyDrive/customer_behavior_project/.git/hooks/pre-rebase.sample (deflated 59%)\n",
            "  adding: content/drive/MyDrive/customer_behavior_project/.git/hooks/pre-receive.sample (deflated 40%)\n",
            "  adding: content/drive/MyDrive/customer_behavior_project/.git/hooks/pre-applypatch.sample (deflated 38%)\n",
            "  adding: content/drive/MyDrive/customer_behavior_project/.git/hooks/post-update.sample (deflated 27%)\n",
            "  adding: content/drive/MyDrive/customer_behavior_project/.git/hooks/commit-msg.sample (deflated 44%)\n",
            "  adding: content/drive/MyDrive/customer_behavior_project/.git/hooks/update.sample (deflated 68%)\n",
            "  adding: content/drive/MyDrive/customer_behavior_project/.git/hooks/pre-commit.sample (deflated 45%)\n",
            "  adding: content/drive/MyDrive/customer_behavior_project/.git/hooks/prepare-commit-msg.sample (deflated 50%)\n",
            "  adding: content/drive/MyDrive/customer_behavior_project/.git/hooks/pre-merge-commit.sample (deflated 39%)\n",
            "  adding: content/drive/MyDrive/customer_behavior_project/.git/hooks/pre-push.sample (deflated 49%)\n",
            "  adding: content/drive/MyDrive/customer_behavior_project/.git/hooks/push-to-checkout.sample (deflated 55%)\n",
            "  adding: content/drive/MyDrive/customer_behavior_project/.git/hooks/fsmonitor-watchman.sample (deflated 62%)\n",
            "  adding: content/drive/MyDrive/customer_behavior_project/.git/info/ (stored 0%)\n",
            "  adding: content/drive/MyDrive/customer_behavior_project/.git/info/exclude (deflated 28%)\n",
            "  adding: content/drive/MyDrive/customer_behavior_project/.git/branches/ (stored 0%)\n",
            "  adding: content/drive/MyDrive/customer_behavior_project/.git/description (deflated 14%)\n",
            "  adding: content/drive/MyDrive/customer_behavior_project/.git/refs/ (stored 0%)\n",
            "  adding: content/drive/MyDrive/customer_behavior_project/.git/refs/heads/ (stored 0%)\n",
            "  adding: content/drive/MyDrive/customer_behavior_project/.git/refs/heads/master (stored 0%)\n",
            "  adding: content/drive/MyDrive/customer_behavior_project/.git/refs/tags/ (stored 0%)\n",
            "  adding: content/drive/MyDrive/customer_behavior_project/.git/HEAD (stored 0%)\n",
            "  adding: content/drive/MyDrive/customer_behavior_project/.git/config (deflated 29%)\n",
            "  adding: content/drive/MyDrive/customer_behavior_project/.git/objects/ (stored 0%)\n",
            "  adding: content/drive/MyDrive/customer_behavior_project/.git/objects/pack/ (stored 0%)\n",
            "  adding: content/drive/MyDrive/customer_behavior_project/.git/objects/info/ (stored 0%)\n",
            "  adding: content/drive/MyDrive/customer_behavior_project/.git/objects/d4/ (stored 0%)\n",
            "  adding: content/drive/MyDrive/customer_behavior_project/.git/objects/d4/fc788313cfc0db58eb996d85f14ba005fb8920 (stored 0%)\n",
            "  adding: content/drive/MyDrive/customer_behavior_project/.git/objects/d2/ (stored 0%)\n",
            "  adding: content/drive/MyDrive/customer_behavior_project/.git/objects/d2/a8c6e38137939a33c828dcd284ff731c4541cc (stored 0%)\n",
            "  adding: content/drive/MyDrive/customer_behavior_project/.git/objects/21/ (stored 0%)\n",
            "  adding: content/drive/MyDrive/customer_behavior_project/.git/objects/21/693c4b4db476136fcf65101ddb30d910c1534f (stored 0%)\n",
            "  adding: content/drive/MyDrive/customer_behavior_project/.git/objects/9b/ (stored 0%)\n",
            "  adding: content/drive/MyDrive/customer_behavior_project/.git/objects/9b/8cf3c5b97c0a42fbafa9e66e9d2d1c822ad02f (stored 0%)\n",
            "  adding: content/drive/MyDrive/customer_behavior_project/.git/objects/80/ (stored 0%)\n",
            "  adding: content/drive/MyDrive/customer_behavior_project/.git/objects/80/0012c798a69f863a8943fcb7f4cd04ae89109d (stored 0%)\n",
            "  adding: content/drive/MyDrive/customer_behavior_project/.git/objects/74/ (stored 0%)\n",
            "  adding: content/drive/MyDrive/customer_behavior_project/.git/objects/74/622b7f1f94038f7a77402ea56ca03f3d5fa66b (stored 0%)\n",
            "  adding: content/drive/MyDrive/customer_behavior_project/.git/objects/3e/ (stored 0%)\n",
            "  adding: content/drive/MyDrive/customer_behavior_project/.git/objects/3e/0028ec98d225166d7b79dcc7cbf7e3f12f3246 (stored 0%)\n",
            "  adding: content/drive/MyDrive/customer_behavior_project/.git/objects/9d/ (stored 0%)\n",
            "  adding: content/drive/MyDrive/customer_behavior_project/.git/objects/9d/52d8db1b4831ab78f5007328b6eba2b803063d (stored 0%)\n",
            "  adding: content/drive/MyDrive/customer_behavior_project/.git/objects/6a/ (stored 0%)\n",
            "  adding: content/drive/MyDrive/customer_behavior_project/.git/objects/6a/f21504c0a95fa754dbd483c1b86b43d4226b0e (stored 0%)\n",
            "  adding: content/drive/MyDrive/customer_behavior_project/.git/objects/13/ (stored 0%)\n",
            "  adding: content/drive/MyDrive/customer_behavior_project/.git/objects/13/70aae5dbd56b3a8f8dc5a1d4eaf1d89eb83191 (stored 0%)\n",
            "  adding: content/drive/MyDrive/customer_behavior_project/.git/objects/99/ (stored 0%)\n",
            "  adding: content/drive/MyDrive/customer_behavior_project/.git/objects/99/6eeea4e69aaeb9653c067398c843920321ce72 (stored 0%)\n",
            "  adding: content/drive/MyDrive/customer_behavior_project/.git/objects/8e/ (stored 0%)\n",
            "  adding: content/drive/MyDrive/customer_behavior_project/.git/objects/8e/3aa01ad5add7c4e92ee69b89649e40d245580f (stored 0%)\n",
            "  adding: content/drive/MyDrive/customer_behavior_project/.git/objects/cd/ (stored 0%)\n",
            "  adding: content/drive/MyDrive/customer_behavior_project/.git/objects/cd/2014252ad678f76aa3466e666bae8155ffc2c2 (stored 0%)\n",
            "  adding: content/drive/MyDrive/customer_behavior_project/.git/objects/a3/ (stored 0%)\n",
            "  adding: content/drive/MyDrive/customer_behavior_project/.git/objects/a3/c91d7cc62e20c8336d03c1c5959afbc784054c (deflated 0%)\n",
            "  adding: content/drive/MyDrive/customer_behavior_project/.git/objects/dd/ (stored 0%)\n",
            "  adding: content/drive/MyDrive/customer_behavior_project/.git/objects/dd/ce2cfd40bf69f95b467e148cb777b59c16ea14 (stored 0%)\n",
            "  adding: content/drive/MyDrive/customer_behavior_project/.git/objects/3d/ (stored 0%)\n",
            "  adding: content/drive/MyDrive/customer_behavior_project/.git/objects/3d/5651bb484d9159c6aa00d6c5273a27ff7d3d66 (stored 0%)\n",
            "  adding: content/drive/MyDrive/customer_behavior_project/.git/objects/b7/ (stored 0%)\n",
            "  adding: content/drive/MyDrive/customer_behavior_project/.git/objects/b7/503c14d658e49788874a0194be38191faeaa03 (stored 0%)\n",
            "  adding: content/drive/MyDrive/customer_behavior_project/.git/objects/2e/ (stored 0%)\n",
            "  adding: content/drive/MyDrive/customer_behavior_project/.git/objects/2e/d85fff065bc253984a311cba36af7b8366dcc1 (stored 0%)\n",
            "  adding: content/drive/MyDrive/customer_behavior_project/.git/objects/77/ (stored 0%)\n",
            "  adding: content/drive/MyDrive/customer_behavior_project/.git/objects/77/51e980c16ccf6bcd2f008fc26cd55d3c2216fe (stored 0%)\n",
            "  adding: content/drive/MyDrive/customer_behavior_project/.git/objects/b0/ (stored 0%)\n",
            "  adding: content/drive/MyDrive/customer_behavior_project/.git/objects/b0/1eb73294a5c6dc214cde1fce98617c97448881 (stored 0%)\n",
            "  adding: content/drive/MyDrive/customer_behavior_project/.git/objects/c0/ (stored 0%)\n",
            "  adding: content/drive/MyDrive/customer_behavior_project/.git/objects/c0/6087bb4cb4b1b3aecf2261dbb8db53a7d5c902 (stored 0%)\n",
            "  adding: content/drive/MyDrive/customer_behavior_project/.git/objects/b6/ (stored 0%)\n",
            "  adding: content/drive/MyDrive/customer_behavior_project/.git/objects/b6/626f9b523e6a7402df98d6809d5a97dcbba27b (stored 0%)\n",
            "  adding: content/drive/MyDrive/customer_behavior_project/.git/objects/5c/ (stored 0%)\n",
            "  adding: content/drive/MyDrive/customer_behavior_project/.git/objects/5c/849e4981f5beadac86767e1a0ea7b7a46c556f (stored 0%)\n",
            "  adding: content/drive/MyDrive/customer_behavior_project/.git/index (deflated 44%)\n",
            "  adding: content/drive/MyDrive/customer_behavior_project/.git/logs/ (stored 0%)\n",
            "  adding: content/drive/MyDrive/customer_behavior_project/.git/logs/refs/ (stored 0%)\n",
            "  adding: content/drive/MyDrive/customer_behavior_project/.git/logs/refs/heads/ (stored 0%)\n",
            "  adding: content/drive/MyDrive/customer_behavior_project/.git/logs/refs/heads/master (deflated 62%)\n",
            "  adding: content/drive/MyDrive/customer_behavior_project/.git/logs/HEAD (deflated 58%)\n"
          ]
        }
      ]
    },
    {
      "cell_type": "code",
      "source": [
        "!ls /content/drive/MyDrive/"
      ],
      "metadata": {
        "colab": {
          "base_uri": "https://localhost:8080/"
        },
        "id": "kXwG0VRKsaAT",
        "outputId": "cd5b6dc8-2d34-47f5-c28e-5625f00989aa"
      },
      "execution_count": 39,
      "outputs": [
        {
          "output_type": "stream",
          "name": "stdout",
          "text": [
            "'Colab Notebooks'\t     customer_behavior_project\t     Ethical-Hacker-New-Strong\n",
            "'Customer_Behavior. ipynb'   Customer_Behavior_Project.zip   Python_Test_Directory\n"
          ]
        }
      ]
    },
    {
      "cell_type": "code",
      "source": [
        "\n",
        "from google.colab import drive\n",
        "drive.mount('/content/drive')"
      ],
      "metadata": {
        "colab": {
          "base_uri": "https://localhost:8080/"
        },
        "id": "wOi22CO1sdCu",
        "outputId": "549b07df-e90a-4265-db4d-c12267359a46"
      },
      "execution_count": 40,
      "outputs": [
        {
          "output_type": "stream",
          "name": "stdout",
          "text": [
            "Drive already mounted at /content/drive; to attempt to forcibly remount, call drive.mount(\"/content/drive\", force_remount=True).\n"
          ]
        }
      ]
    },
    {
      "cell_type": "code",
      "source": [],
      "metadata": {
        "id": "9jBY0pazsx0H"
      },
      "execution_count": null,
      "outputs": []
    },
    {
      "cell_type": "code",
      "source": [
        "!zip -r Customer_Behavior_Project.zip /content/drive/MyDrive/customer_behavior_project"
      ],
      "metadata": {
        "colab": {
          "base_uri": "https://localhost:8080/"
        },
        "id": "EkxP6ljLs3aN",
        "outputId": "625f9bd0-b006-4c9a-fce1-df71e72df5dc"
      },
      "execution_count": 41,
      "outputs": [
        {
          "output_type": "stream",
          "name": "stdout",
          "text": [
            "updating: content/drive/MyDrive/customer_behavior_project/ (stored 0%)\n",
            "updating: content/drive/MyDrive/customer_behavior_project/data.csv (stored 0%)\n",
            "updating: content/drive/MyDrive/customer_behavior_project/analysis.ipynb (deflated 54%)\n",
            "updating: content/drive/MyDrive/customer_behavior_project/data/ (stored 0%)\n",
            "updating: content/drive/MyDrive/customer_behavior_project/data/customer_behavior.csv (deflated 63%)\n",
            "updating: content/drive/MyDrive/customer_behavior_project/data/threat_simulation.csv (deflated 71%)\n",
            "updating: content/drive/MyDrive/customer_behavior_project/data/customers.csv (deflated 79%)\n",
            "updating: content/drive/MyDrive/customer_behavior_project/data/orders.csv (deflated 73%)\n",
            "updating: content/drive/MyDrive/customer_behavior_project/data/behavior_logs.csv (deflated 77%)\n",
            "updating: content/drive/MyDrive/customer_behavior_project/data/cyber_attack_logs.csv (deflated 84%)\n",
            "updating: content/drive/MyDrive/customer_behavior_project/reports/ (stored 0%)\n",
            "updating: content/drive/MyDrive/customer_behavior_project/reports/project_report.pdf (deflated 32%)\n",
            "updating: content/drive/MyDrive/customer_behavior_project/reports/customer_segmentation.png (deflated 7%)\n",
            "updating: content/drive/MyDrive/customer_behavior_project/reports/churn_report.txt (deflated 59%)\n",
            "updating: content/drive/MyDrive/customer_behavior_project/reports/anomalies.csv (deflated 71%)\n",
            "updating: content/drive/MyDrive/customer_behavior_project/reports/cyber_attack_summary.csv (deflated 57%)\n",
            "updating: content/drive/MyDrive/customer_behavior_project/docs/ (stored 0%)\n",
            "updating: content/drive/MyDrive/customer_behavior_project/scripts/ (stored 0%)\n",
            "updating: content/drive/MyDrive/customer_behavior_project/README.md (deflated 47%)\n",
            "updating: content/drive/MyDrive/customer_behavior_project/requirements.txt (stored 0%)\n",
            "updating: content/drive/MyDrive/customer_behavior_project/project_overview.md (stored 0%)\n",
            "updating: content/drive/MyDrive/customer_behavior_project/code_explanation.md (deflated 5%)\n",
            "updating: content/drive/MyDrive/customer_behavior_project/.git/ (stored 0%)\n",
            "updating: content/drive/MyDrive/customer_behavior_project/.git/hooks/ (stored 0%)\n",
            "updating: content/drive/MyDrive/customer_behavior_project/.git/hooks/applypatch-msg.sample (deflated 42%)\n",
            "updating: content/drive/MyDrive/customer_behavior_project/.git/hooks/pre-rebase.sample (deflated 59%)\n",
            "updating: content/drive/MyDrive/customer_behavior_project/.git/hooks/pre-receive.sample (deflated 40%)\n",
            "updating: content/drive/MyDrive/customer_behavior_project/.git/hooks/pre-applypatch.sample (deflated 38%)\n",
            "updating: content/drive/MyDrive/customer_behavior_project/.git/hooks/post-update.sample (deflated 27%)\n",
            "updating: content/drive/MyDrive/customer_behavior_project/.git/hooks/commit-msg.sample (deflated 44%)\n",
            "updating: content/drive/MyDrive/customer_behavior_project/.git/hooks/update.sample (deflated 68%)\n",
            "updating: content/drive/MyDrive/customer_behavior_project/.git/hooks/pre-commit.sample (deflated 45%)\n",
            "updating: content/drive/MyDrive/customer_behavior_project/.git/hooks/prepare-commit-msg.sample (deflated 50%)\n",
            "updating: content/drive/MyDrive/customer_behavior_project/.git/hooks/pre-merge-commit.sample (deflated 39%)\n",
            "updating: content/drive/MyDrive/customer_behavior_project/.git/hooks/pre-push.sample (deflated 49%)\n",
            "updating: content/drive/MyDrive/customer_behavior_project/.git/hooks/push-to-checkout.sample (deflated 55%)\n",
            "updating: content/drive/MyDrive/customer_behavior_project/.git/hooks/fsmonitor-watchman.sample (deflated 62%)\n",
            "updating: content/drive/MyDrive/customer_behavior_project/.git/info/ (stored 0%)\n",
            "updating: content/drive/MyDrive/customer_behavior_project/.git/info/exclude (deflated 28%)\n",
            "updating: content/drive/MyDrive/customer_behavior_project/.git/branches/ (stored 0%)\n",
            "updating: content/drive/MyDrive/customer_behavior_project/.git/description (deflated 14%)\n",
            "updating: content/drive/MyDrive/customer_behavior_project/.git/refs/ (stored 0%)\n",
            "updating: content/drive/MyDrive/customer_behavior_project/.git/refs/heads/ (stored 0%)\n",
            "updating: content/drive/MyDrive/customer_behavior_project/.git/refs/heads/master (stored 0%)\n",
            "updating: content/drive/MyDrive/customer_behavior_project/.git/refs/tags/ (stored 0%)\n",
            "updating: content/drive/MyDrive/customer_behavior_project/.git/HEAD (stored 0%)\n",
            "updating: content/drive/MyDrive/customer_behavior_project/.git/config (deflated 29%)\n",
            "updating: content/drive/MyDrive/customer_behavior_project/.git/objects/ (stored 0%)\n",
            "updating: content/drive/MyDrive/customer_behavior_project/.git/objects/pack/ (stored 0%)\n",
            "updating: content/drive/MyDrive/customer_behavior_project/.git/objects/info/ (stored 0%)\n",
            "updating: content/drive/MyDrive/customer_behavior_project/.git/objects/d4/ (stored 0%)\n",
            "updating: content/drive/MyDrive/customer_behavior_project/.git/objects/d4/fc788313cfc0db58eb996d85f14ba005fb8920 (stored 0%)\n",
            "updating: content/drive/MyDrive/customer_behavior_project/.git/objects/d2/ (stored 0%)\n",
            "updating: content/drive/MyDrive/customer_behavior_project/.git/objects/d2/a8c6e38137939a33c828dcd284ff731c4541cc (stored 0%)\n",
            "updating: content/drive/MyDrive/customer_behavior_project/.git/objects/21/ (stored 0%)\n",
            "updating: content/drive/MyDrive/customer_behavior_project/.git/objects/21/693c4b4db476136fcf65101ddb30d910c1534f (stored 0%)\n",
            "updating: content/drive/MyDrive/customer_behavior_project/.git/objects/9b/ (stored 0%)\n",
            "updating: content/drive/MyDrive/customer_behavior_project/.git/objects/9b/8cf3c5b97c0a42fbafa9e66e9d2d1c822ad02f (stored 0%)\n",
            "updating: content/drive/MyDrive/customer_behavior_project/.git/objects/80/ (stored 0%)\n",
            "updating: content/drive/MyDrive/customer_behavior_project/.git/objects/80/0012c798a69f863a8943fcb7f4cd04ae89109d (stored 0%)\n",
            "updating: content/drive/MyDrive/customer_behavior_project/.git/objects/74/ (stored 0%)\n",
            "updating: content/drive/MyDrive/customer_behavior_project/.git/objects/74/622b7f1f94038f7a77402ea56ca03f3d5fa66b (stored 0%)\n",
            "updating: content/drive/MyDrive/customer_behavior_project/.git/objects/3e/ (stored 0%)\n",
            "updating: content/drive/MyDrive/customer_behavior_project/.git/objects/3e/0028ec98d225166d7b79dcc7cbf7e3f12f3246 (stored 0%)\n",
            "updating: content/drive/MyDrive/customer_behavior_project/.git/objects/9d/ (stored 0%)\n",
            "updating: content/drive/MyDrive/customer_behavior_project/.git/objects/9d/52d8db1b4831ab78f5007328b6eba2b803063d (stored 0%)\n",
            "updating: content/drive/MyDrive/customer_behavior_project/.git/objects/6a/ (stored 0%)\n",
            "updating: content/drive/MyDrive/customer_behavior_project/.git/objects/6a/f21504c0a95fa754dbd483c1b86b43d4226b0e (stored 0%)\n",
            "updating: content/drive/MyDrive/customer_behavior_project/.git/objects/13/ (stored 0%)\n",
            "updating: content/drive/MyDrive/customer_behavior_project/.git/objects/13/70aae5dbd56b3a8f8dc5a1d4eaf1d89eb83191 (stored 0%)\n",
            "updating: content/drive/MyDrive/customer_behavior_project/.git/objects/99/ (stored 0%)\n",
            "updating: content/drive/MyDrive/customer_behavior_project/.git/objects/99/6eeea4e69aaeb9653c067398c843920321ce72 (stored 0%)\n",
            "updating: content/drive/MyDrive/customer_behavior_project/.git/objects/8e/ (stored 0%)\n",
            "updating: content/drive/MyDrive/customer_behavior_project/.git/objects/8e/3aa01ad5add7c4e92ee69b89649e40d245580f (stored 0%)\n",
            "updating: content/drive/MyDrive/customer_behavior_project/.git/objects/cd/ (stored 0%)\n",
            "updating: content/drive/MyDrive/customer_behavior_project/.git/objects/cd/2014252ad678f76aa3466e666bae8155ffc2c2 (stored 0%)\n",
            "updating: content/drive/MyDrive/customer_behavior_project/.git/objects/a3/ (stored 0%)\n",
            "updating: content/drive/MyDrive/customer_behavior_project/.git/objects/a3/c91d7cc62e20c8336d03c1c5959afbc784054c (deflated 0%)\n",
            "updating: content/drive/MyDrive/customer_behavior_project/.git/objects/dd/ (stored 0%)\n",
            "updating: content/drive/MyDrive/customer_behavior_project/.git/objects/dd/ce2cfd40bf69f95b467e148cb777b59c16ea14 (stored 0%)\n",
            "updating: content/drive/MyDrive/customer_behavior_project/.git/objects/3d/ (stored 0%)\n",
            "updating: content/drive/MyDrive/customer_behavior_project/.git/objects/3d/5651bb484d9159c6aa00d6c5273a27ff7d3d66 (stored 0%)\n",
            "updating: content/drive/MyDrive/customer_behavior_project/.git/objects/b7/ (stored 0%)\n",
            "updating: content/drive/MyDrive/customer_behavior_project/.git/objects/b7/503c14d658e49788874a0194be38191faeaa03 (stored 0%)\n",
            "updating: content/drive/MyDrive/customer_behavior_project/.git/objects/2e/ (stored 0%)\n",
            "updating: content/drive/MyDrive/customer_behavior_project/.git/objects/2e/d85fff065bc253984a311cba36af7b8366dcc1 (stored 0%)\n",
            "updating: content/drive/MyDrive/customer_behavior_project/.git/objects/77/ (stored 0%)\n",
            "updating: content/drive/MyDrive/customer_behavior_project/.git/objects/77/51e980c16ccf6bcd2f008fc26cd55d3c2216fe (stored 0%)\n",
            "updating: content/drive/MyDrive/customer_behavior_project/.git/objects/b0/ (stored 0%)\n",
            "updating: content/drive/MyDrive/customer_behavior_project/.git/objects/b0/1eb73294a5c6dc214cde1fce98617c97448881 (stored 0%)\n",
            "updating: content/drive/MyDrive/customer_behavior_project/.git/objects/c0/ (stored 0%)\n",
            "updating: content/drive/MyDrive/customer_behavior_project/.git/objects/c0/6087bb4cb4b1b3aecf2261dbb8db53a7d5c902 (stored 0%)\n",
            "updating: content/drive/MyDrive/customer_behavior_project/.git/objects/b6/ (stored 0%)\n",
            "updating: content/drive/MyDrive/customer_behavior_project/.git/objects/b6/626f9b523e6a7402df98d6809d5a97dcbba27b (stored 0%)\n",
            "updating: content/drive/MyDrive/customer_behavior_project/.git/objects/5c/ (stored 0%)\n",
            "updating: content/drive/MyDrive/customer_behavior_project/.git/objects/5c/849e4981f5beadac86767e1a0ea7b7a46c556f (stored 0%)\n",
            "updating: content/drive/MyDrive/customer_behavior_project/.git/index (deflated 44%)\n",
            "updating: content/drive/MyDrive/customer_behavior_project/.git/logs/ (stored 0%)\n",
            "updating: content/drive/MyDrive/customer_behavior_project/.git/logs/refs/ (stored 0%)\n",
            "updating: content/drive/MyDrive/customer_behavior_project/.git/logs/refs/heads/ (stored 0%)\n",
            "updating: content/drive/MyDrive/customer_behavior_project/.git/logs/refs/heads/master (deflated 62%)\n",
            "updating: content/drive/MyDrive/customer_behavior_project/.git/logs/HEAD (deflated 58%)\n"
          ]
        }
      ]
    },
    {
      "cell_type": "code",
      "source": [],
      "metadata": {
        "id": "cBJ6zP1Js5zh"
      },
      "execution_count": null,
      "outputs": []
    }
  ],
  "metadata": {
    "colab": {
      "provenance": [],
      "include_colab_link": true
    },
    "kernelspec": {
      "display_name": "Python 3",
      "name": "python3"
    },
    "language_info": {
      "name": "python"
    }
  },
  "nbformat": 4,
  "nbformat_minor": 0
}